{
  "nbformat": 4,
  "nbformat_minor": 0,
  "metadata": {
    "colab": {
      "name": "Exploratory Data Analysis (Amazon's Top 50 Bestselling Books)",
      "provenance": [],
      "collapsed_sections": [],
      "include_colab_link": true
    },
    "kernelspec": {
      "display_name": "Python 3",
      "name": "python3"
    }
  },
  "cells": [
    {
      "cell_type": "markdown",
      "metadata": {
        "id": "view-in-github",
        "colab_type": "text"
      },
      "source": [
        "<a href=\"https://colab.research.google.com/github/AzizaBosaeed/Aziza_Portfolio/blob/main/Exploratory_Data_Analysis_(Amazon's_Top_50_Bestselling_Books).ipynb\" target=\"_parent\"><img src=\"https://colab.research.google.com/assets/colab-badge.svg\" alt=\"Open In Colab\"/></a>"
      ]
    },
    {
      "cell_type": "markdown",
      "metadata": {
        "id": "qCTxKwCME7Uj"
      },
      "source": [
        "This project will show you the exploration of dataset (Amazon Top 50 Bestselling Books 2009 - 2019). I got this dataset on Kaggle website. The exploration will be in a systematic way, a task that statisticians call exploratory data analysis.\n",
        "\n",
        "**The Questions that I am generated about the dataset are:**\n",
        "*   Who is the author who got the highest rating from 2009 to 2019, and what is the book?\n",
        "*   In each year, who is the author who got the highest rating, and what is the book?\n",
        "*   Who is the author has written the most bestseller books from 2009 to 2019?\n",
        "*   In each year, who is the author has written the most bestseller books?\n",
        "*   Which book has the most reviews from 2009 to 2019?\n",
        "*   In each year, which book has the most reviews?\n",
        "*   Which genres become bestsellers more often?\n",
        "*  In each year, which genres become bestsellers more often?\n",
        "\n",
        "\n",
        "LET'S START :)"
      ]
    },
    {
      "cell_type": "markdown",
      "metadata": {
        "id": "n-rEsUzvaFX6"
      },
      "source": [
        "1- **Read dataset** of Amazon's Top 50 Bestselling Books. And displaying the first 5 rows of the dataset as a sample."
      ]
    },
    {
      "cell_type": "code",
      "metadata": {
        "id": "k51yJSceaGFo",
        "colab": {
          "base_uri": "https://localhost:8080/",
          "height": 204
        },
        "outputId": "662cbc62-e0ad-42dc-a621-f93fd2f84d7c"
      },
      "source": [
        "import pandas as pd\n",
        "#read\n",
        "dataset = pd.read_csv('/content/bestsellers with categories.csv')\n",
        "#display\n",
        "dataset.head()"
      ],
      "execution_count": 1,
      "outputs": [
        {
          "output_type": "execute_result",
          "data": {
            "text/html": [
              "<div>\n",
              "<style scoped>\n",
              "    .dataframe tbody tr th:only-of-type {\n",
              "        vertical-align: middle;\n",
              "    }\n",
              "\n",
              "    .dataframe tbody tr th {\n",
              "        vertical-align: top;\n",
              "    }\n",
              "\n",
              "    .dataframe thead th {\n",
              "        text-align: right;\n",
              "    }\n",
              "</style>\n",
              "<table border=\"1\" class=\"dataframe\">\n",
              "  <thead>\n",
              "    <tr style=\"text-align: right;\">\n",
              "      <th></th>\n",
              "      <th>Name</th>\n",
              "      <th>Author</th>\n",
              "      <th>User Rating</th>\n",
              "      <th>Reviews</th>\n",
              "      <th>Price</th>\n",
              "      <th>Year</th>\n",
              "      <th>Genre</th>\n",
              "    </tr>\n",
              "  </thead>\n",
              "  <tbody>\n",
              "    <tr>\n",
              "      <th>0</th>\n",
              "      <td>10-Day Green Smoothie Cleanse</td>\n",
              "      <td>JJ Smith</td>\n",
              "      <td>4.7</td>\n",
              "      <td>17350</td>\n",
              "      <td>8</td>\n",
              "      <td>2016</td>\n",
              "      <td>Non Fiction</td>\n",
              "    </tr>\n",
              "    <tr>\n",
              "      <th>1</th>\n",
              "      <td>11/22/63: A Novel</td>\n",
              "      <td>Stephen King</td>\n",
              "      <td>4.6</td>\n",
              "      <td>2052</td>\n",
              "      <td>22</td>\n",
              "      <td>2011</td>\n",
              "      <td>Fiction</td>\n",
              "    </tr>\n",
              "    <tr>\n",
              "      <th>2</th>\n",
              "      <td>12 Rules for Life: An Antidote to Chaos</td>\n",
              "      <td>Jordan B. Peterson</td>\n",
              "      <td>4.7</td>\n",
              "      <td>18979</td>\n",
              "      <td>15</td>\n",
              "      <td>2018</td>\n",
              "      <td>Non Fiction</td>\n",
              "    </tr>\n",
              "    <tr>\n",
              "      <th>3</th>\n",
              "      <td>1984 (Signet Classics)</td>\n",
              "      <td>George Orwell</td>\n",
              "      <td>4.7</td>\n",
              "      <td>21424</td>\n",
              "      <td>6</td>\n",
              "      <td>2017</td>\n",
              "      <td>Fiction</td>\n",
              "    </tr>\n",
              "    <tr>\n",
              "      <th>4</th>\n",
              "      <td>5,000 Awesome Facts (About Everything!) (Natio...</td>\n",
              "      <td>National Geographic Kids</td>\n",
              "      <td>4.8</td>\n",
              "      <td>7665</td>\n",
              "      <td>12</td>\n",
              "      <td>2019</td>\n",
              "      <td>Non Fiction</td>\n",
              "    </tr>\n",
              "  </tbody>\n",
              "</table>\n",
              "</div>"
            ],
            "text/plain": [
              "                                                Name  ...        Genre\n",
              "0                      10-Day Green Smoothie Cleanse  ...  Non Fiction\n",
              "1                                  11/22/63: A Novel  ...      Fiction\n",
              "2            12 Rules for Life: An Antidote to Chaos  ...  Non Fiction\n",
              "3                             1984 (Signet Classics)  ...      Fiction\n",
              "4  5,000 Awesome Facts (About Everything!) (Natio...  ...  Non Fiction\n",
              "\n",
              "[5 rows x 7 columns]"
            ]
          },
          "metadata": {
            "tags": []
          },
          "execution_count": 1
        }
      ]
    },
    {
      "cell_type": "markdown",
      "metadata": {
        "id": "_8I-W_Kq3XS1"
      },
      "source": [
        "*   Shape of Dataset:\n",
        "\n"
      ]
    },
    {
      "cell_type": "code",
      "metadata": {
        "colab": {
          "base_uri": "https://localhost:8080/"
        },
        "id": "mfVcGzW7v5qK",
        "outputId": "bae29883-5f12-4a33-ca3f-706ee0fabd7f"
      },
      "source": [
        "dataset.shape"
      ],
      "execution_count": 2,
      "outputs": [
        {
          "output_type": "execute_result",
          "data": {
            "text/plain": [
              "(550, 7)"
            ]
          },
          "metadata": {
            "tags": []
          },
          "execution_count": 2
        }
      ]
    },
    {
      "cell_type": "markdown",
      "metadata": {
        "id": "IkA9PhbN3bLt"
      },
      "source": [
        "*   Columns of Dataset:"
      ]
    },
    {
      "cell_type": "code",
      "metadata": {
        "colab": {
          "base_uri": "https://localhost:8080/"
        },
        "id": "Hi-9u7xHwdSB",
        "outputId": "0c4d9852-b297-48c6-dce9-67073097cef6"
      },
      "source": [
        "dataset.columns"
      ],
      "execution_count": 3,
      "outputs": [
        {
          "output_type": "execute_result",
          "data": {
            "text/plain": [
              "Index(['Name', 'Author', 'User Rating', 'Reviews', 'Price', 'Year', 'Genre'], dtype='object')"
            ]
          },
          "metadata": {
            "tags": []
          },
          "execution_count": 3
        }
      ]
    },
    {
      "cell_type": "markdown",
      "metadata": {
        "id": "ZrI8m2HW3gNP"
      },
      "source": [
        "*   Data Type of Columns:"
      ]
    },
    {
      "cell_type": "code",
      "metadata": {
        "colab": {
          "base_uri": "https://localhost:8080/"
        },
        "id": "rI0EN8D_xuj1",
        "outputId": "d366d170-b18c-48b1-e6cf-0786b42c4f47"
      },
      "source": [
        "dataset.dtypes"
      ],
      "execution_count": 4,
      "outputs": [
        {
          "output_type": "execute_result",
          "data": {
            "text/plain": [
              "Name            object\n",
              "Author          object\n",
              "User Rating    float64\n",
              "Reviews          int64\n",
              "Price            int64\n",
              "Year             int64\n",
              "Genre           object\n",
              "dtype: object"
            ]
          },
          "metadata": {
            "tags": []
          },
          "execution_count": 4
        }
      ]
    },
    {
      "cell_type": "markdown",
      "metadata": {
        "id": "fmlRwVNK38uv"
      },
      "source": [
        "2- **Preparing The Dataset**\n",
        "*   Change data type of Gener column."
      ]
    },
    {
      "cell_type": "code",
      "metadata": {
        "colab": {
          "base_uri": "https://localhost:8080/"
        },
        "id": "XfafC_ZVwjmn",
        "outputId": "60ec404a-4174-420f-a921-92328db322c1"
      },
      "source": [
        "dataset.Genre = dataset.Genre.astype('category')\n",
        "dataset.Genre.dtypes"
      ],
      "execution_count": 5,
      "outputs": [
        {
          "output_type": "execute_result",
          "data": {
            "text/plain": [
              "CategoricalDtype(categories=['Fiction', 'Non Fiction'], ordered=False)"
            ]
          },
          "metadata": {
            "tags": []
          },
          "execution_count": 5
        }
      ]
    },
    {
      "cell_type": "markdown",
      "metadata": {
        "id": "C1V-7sVcJURp"
      },
      "source": [
        "*   Add lowercase column for each string column."
      ]
    },
    {
      "cell_type": "code",
      "metadata": {
        "colab": {
          "base_uri": "https://localhost:8080/"
        },
        "id": "xhq4YIqGGH31",
        "outputId": "a459551f-8026-40a8-b740-4fae0813ab44"
      },
      "source": [
        "# Name column\n",
        "dataset['Name_lowerC']=[x.lower() for x in dataset.Name]\n",
        "# Author column\n",
        "dataset['Author_lowerC']=[x.lower() for x in dataset.Author]\n",
        "print(dataset.Name_lowerC[0],'\\n',dataset.Author_lowerC[0])\n"
      ],
      "execution_count": 6,
      "outputs": [
        {
          "output_type": "stream",
          "text": [
            "10-day green smoothie cleanse \n",
            " jj smith\n"
          ],
          "name": "stdout"
        }
      ]
    },
    {
      "cell_type": "markdown",
      "metadata": {
        "id": "_kL2245vu6S8"
      },
      "source": [
        "*   Check if there is typing error (additional spaces) in the Name and Author columns."
      ]
    },
    {
      "cell_type": "code",
      "metadata": {
        "id": "ZZG546CY0wEL",
        "colab": {
          "base_uri": "https://localhost:8080/"
        },
        "outputId": "8383ee2e-09ab-48ea-dcc6-29b879714ea3"
      },
      "source": [
        "!pip install requests fuzzywuzzy pandas pyjstat numpy plotly matplotlib seaborn geopy google folium pandas googlemaps\n"
      ],
      "execution_count": 7,
      "outputs": [
        {
          "output_type": "stream",
          "text": [
            "Requirement already satisfied: requests in /usr/local/lib/python3.7/dist-packages (2.23.0)\n",
            "Collecting fuzzywuzzy\n",
            "  Downloading fuzzywuzzy-0.18.0-py2.py3-none-any.whl (18 kB)\n",
            "Requirement already satisfied: pandas in /usr/local/lib/python3.7/dist-packages (1.1.5)\n",
            "Collecting pyjstat\n",
            "  Downloading pyjstat-2.2.1.tar.gz (794 kB)\n",
            "\u001b[K     |████████████████████████████████| 794 kB 8.6 MB/s \n",
            "\u001b[?25hRequirement already satisfied: numpy in /usr/local/lib/python3.7/dist-packages (1.19.5)\n",
            "Requirement already satisfied: plotly in /usr/local/lib/python3.7/dist-packages (4.4.1)\n",
            "Requirement already satisfied: matplotlib in /usr/local/lib/python3.7/dist-packages (3.2.2)\n",
            "Requirement already satisfied: seaborn in /usr/local/lib/python3.7/dist-packages (0.11.1)\n",
            "Requirement already satisfied: geopy in /usr/local/lib/python3.7/dist-packages (1.17.0)\n",
            "Requirement already satisfied: google in /usr/local/lib/python3.7/dist-packages (2.0.3)\n",
            "Requirement already satisfied: folium in /usr/local/lib/python3.7/dist-packages (0.8.3)\n",
            "Collecting googlemaps\n",
            "  Downloading googlemaps-4.5.3.tar.gz (32 kB)\n",
            "Requirement already satisfied: chardet<4,>=3.0.2 in /usr/local/lib/python3.7/dist-packages (from requests) (3.0.4)\n",
            "Requirement already satisfied: idna<3,>=2.5 in /usr/local/lib/python3.7/dist-packages (from requests) (2.10)\n",
            "Requirement already satisfied: certifi>=2017.4.17 in /usr/local/lib/python3.7/dist-packages (from requests) (2021.5.30)\n",
            "Requirement already satisfied: urllib3!=1.25.0,!=1.25.1,<1.26,>=1.21.1 in /usr/local/lib/python3.7/dist-packages (from requests) (1.24.3)\n",
            "Requirement already satisfied: pytz>=2017.2 in /usr/local/lib/python3.7/dist-packages (from pandas) (2018.9)\n",
            "Requirement already satisfied: python-dateutil>=2.7.3 in /usr/local/lib/python3.7/dist-packages (from pandas) (2.8.2)\n",
            "Requirement already satisfied: six>=1.5 in /usr/local/lib/python3.7/dist-packages (from python-dateutil>=2.7.3->pandas) (1.15.0)\n",
            "Requirement already satisfied: retrying>=1.3.3 in /usr/local/lib/python3.7/dist-packages (from plotly) (1.3.3)\n",
            "Requirement already satisfied: pyparsing!=2.0.4,!=2.1.2,!=2.1.6,>=2.0.1 in /usr/local/lib/python3.7/dist-packages (from matplotlib) (2.4.7)\n",
            "Requirement already satisfied: cycler>=0.10 in /usr/local/lib/python3.7/dist-packages (from matplotlib) (0.10.0)\n",
            "Requirement already satisfied: kiwisolver>=1.0.1 in /usr/local/lib/python3.7/dist-packages (from matplotlib) (1.3.1)\n",
            "Requirement already satisfied: scipy>=1.0 in /usr/local/lib/python3.7/dist-packages (from seaborn) (1.4.1)\n",
            "Requirement already satisfied: geographiclib<2,>=1.49 in /usr/local/lib/python3.7/dist-packages (from geopy) (1.52)\n",
            "Requirement already satisfied: beautifulsoup4 in /usr/local/lib/python3.7/dist-packages (from google) (4.6.3)\n",
            "Requirement already satisfied: branca>=0.3.0 in /usr/local/lib/python3.7/dist-packages (from folium) (0.4.2)\n",
            "Requirement already satisfied: jinja2 in /usr/local/lib/python3.7/dist-packages (from folium) (2.11.3)\n",
            "Requirement already satisfied: MarkupSafe>=0.23 in /usr/local/lib/python3.7/dist-packages (from jinja2->folium) (2.0.1)\n",
            "Building wheels for collected packages: pyjstat, googlemaps\n",
            "  Building wheel for pyjstat (setup.py) ... \u001b[?25l\u001b[?25hdone\n",
            "  Created wheel for pyjstat: filename=pyjstat-2.2.1-py3-none-any.whl size=19427 sha256=be45795dfa1523682f4b5e9e6ef04ad133b7dc7d4b0cd212453d757888df352f\n",
            "  Stored in directory: /root/.cache/pip/wheels/8a/f5/95/0d904a03e1b0f40c8d615e09ab6ab46c66e392391aaa02d407\n",
            "  Building wheel for googlemaps (setup.py) ... \u001b[?25l\u001b[?25hdone\n",
            "  Created wheel for googlemaps: filename=googlemaps-4.5.3-py3-none-any.whl size=38479 sha256=2a03986860ad39c2e401ea8b23db9c6f6b257abc897189b12360cb5c41f287e0\n",
            "  Stored in directory: /root/.cache/pip/wheels/fa/1a/1c/cc0b8a1652a3f06aea586b0e4714a81bafed830513969baf92\n",
            "Successfully built pyjstat googlemaps\n",
            "Installing collected packages: pyjstat, googlemaps, fuzzywuzzy\n",
            "Successfully installed fuzzywuzzy-0.18.0 googlemaps-4.5.3 pyjstat-2.2.1\n"
          ],
          "name": "stdout"
        }
      ]
    },
    {
      "cell_type": "code",
      "metadata": {
        "id": "baVt74tJ2Eyw",
        "colab": {
          "base_uri": "https://localhost:8080/"
        },
        "outputId": "2dd56803-dab0-43d3-c8d0-10248627b2fd"
      },
      "source": [
        "import requests\n",
        "from fuzzywuzzy import fuzz\n",
        "from fuzzywuzzy import process\n",
        "\n",
        "#build two lists of unique names and authors\n",
        "names = pd.Series(dataset.Name_lowerC).sort_values().unique()\n",
        "authors = dataset.Author_lowerC.sort_values().unique()\n"
      ],
      "execution_count": 8,
      "outputs": [
        {
          "output_type": "stream",
          "text": [
            "/usr/local/lib/python3.7/dist-packages/fuzzywuzzy/fuzz.py:11: UserWarning: Using slow pure-python SequenceMatcher. Install python-Levenshtein to remove this warning\n",
            "  warnings.warn('Using slow pure-python SequenceMatcher. Install python-Levenshtein to remove this warning')\n"
          ],
          "name": "stderr"
        }
      ]
    },
    {
      "cell_type": "code",
      "metadata": {
        "id": "dpC_jrppH2Ao",
        "colab": {
          "base_uri": "https://localhost:8080/"
        },
        "outputId": "8e9c6cd1-eeee-433c-e265-e9bf86357863"
      },
      "source": [
        "#build a list of the most 3 similar spellings with names\n",
        "for value in names:\n",
        "    print(process.extract(value, names, limit=3, scorer=fuzz.token_sort_ratio))\n"
      ],
      "execution_count": 9,
      "outputs": [
        {
          "output_type": "stream",
          "text": [
            "[('10-day green smoothie cleanse', 100), (\"giraffes can't dance\", 49), ('the day the crayons quit', 49)]\n",
            "[('11/22/63: a novel', 100), ('little bee: a novel', 47), ('the guardians: a novel', 43)]\n",
            "[('12 rules for life: an antidote to chaos', 100), (\"food rules: an eater's manual\", 55), ('a dance with dragons (a song of ice and fire)', 49)]\n",
            "[('1984 (signet classics)', 100), ('the confession: a novel', 43), ('10-day green smoothie cleanse', 41)]\n",
            "[('5,000 awesome facts (about everything!) (national geographic kids)', 100), ('national geographic kids why?: over 1,111 answers to everything', 69), ('national geographic little kids first big book of why (national geographic little kids first big books)', 43)]\n",
            "[('a dance with dragons (a song of ice and fire)', 100), ('a game of thrones / a clash of kings / a storm of swords / a feast of crows / a dance with dragons', 54), ('double down (diary of a wimpy kid #11)', 49)]\n",
            "[('a game of thrones / a clash of kings / a storm of swords / a feast of crows / a dance with dragons', 100), ('game of thrones boxed set: a game of thrones/a clash of kings/a storm of swords/a feast for crows', 78), ('a dance with dragons (a song of ice and fire)', 54)]\n",
            "[('a gentleman in moscow: a novel', 100), ('a man called ove: a novel', 57), ('little bee: a novel', 51)]\n",
            "[('a higher loyalty: truth, lies, and leadership', 100), ('the five dysfunctions of a team: a leadership fable', 52), ('have a little faith: a true story', 46)]\n",
            "[('a man called ove: a novel', 100), ('the guardians: a novel', 62), ('a gentleman in moscow: a novel', 57)]\n",
            "[(\"a patriot's history of the united states: from columbus's great discovery to the war on terror\", 100), ('the plant paradox: the hidden dangers in \"healthy\" foods that cause disease and weight gain', 48), (\"good to great: why some companies make the leap and others don't\", 47)]\n",
            "[('a stolen life: a memoir', 100), ('true compass: a memoir', 60), ('educated: a memoir', 56)]\n",
            "[('a wrinkle in time (time quintet)', 100), (\"the time traveler's wife\", 56), ('lean in: women, work, and the will to lead', 52)]\n",
            "[('act like a lady, think like a man: what men really think about love, relationships, intimacy, and commitment', 100), ('game change: obama and the clintons, mccain and palin, and the race of a lifetime', 43), ('love wins: a book about heaven, hell, and the fate of every person who ever lived', 43)]\n",
            "[('adult coloring book designs: stress relief coloring book: garden designs, mandalas, animals, and paisley patterns', 100), ('adult coloring books: a coloring book for adults featuring mandalas and henna inspired flowers, animals, and paisley…', 62), ('adult coloring book: stress relieving animal designs', 59)]\n",
            "[('adult coloring book: stress relieving animal designs', 100), ('adult coloring book: stress relieving patterns', 83), ('adult coloring book designs: stress relief coloring book: garden designs, mandalas, animals, and paisley patterns', 59)]\n",
            "[('adult coloring book: stress relieving patterns', 100), ('adult coloring book: stress relieving animal designs', 83), ('creative haven owls coloring book (adult coloring)', 60)]\n",
            "[('adult coloring books: a coloring book for adults featuring mandalas and henna inspired flowers, animals, and paisley…', 100), ('adult coloring book designs: stress relief coloring book: garden designs, mandalas, animals, and paisley patterns', 64), ('secret garden: an inky treasure hunt and coloring book (for adults, mindfulness coloring)', 55)]\n",
            "[('alexander hamilton', 100), ('milk and honey', 50), ('i, alex cross', 47)]\n",
            "[('all the light we cannot see', 100), ('the paris wife: a novel', 53), ('go the f**k to sleep', 52)]\n",
            "[('allegiant', 100), ('the martian', 50), ('the alchemist', 45)]\n",
            "[('american sniper: the autobiography of the most lethal sniper in u.s. military history', 100), ('no easy day: the autobiography of a navy seal: the firsthand account of the mission that killed osama bin laden', 54), (\"the harbinger: the ancient mystery that holds the secret of america's future\", 51)]\n",
            "[('and the mountains echoed', 100), ('the sun and her flowers', 60), ('the alchemist', 54)]\n",
            "[('arguing with idiots: how to stop small minds and big government', 100), (\"heaven is for real: a little boy's astounding story of his trip to heaven and back\", 50), ('you are a badass: how to stop doubting your greatness and start living an awesome life', 49)]\n",
            "[('astrophysics for people in a hurry', 100), ('autobiography of mark twain, vol. 1', 45), ('how to win friends & influence people', 43)]\n",
            "[('autobiography of mark twain, vol. 1', 100), ('mastering the art of french cooking, vol. 2', 57), ('astrophysics for people in a hurry', 48)]\n",
            "[('baby touch and feel: animals', 100), (\"the handmaid's tale\", 52), ('the nightingale: a novel', 48)]\n",
            "[(\"balance (angie's extreme stress menders)\", 100), (\"can't hurt me: master your mind and defy the odds\", 47), ('catching fire (the hunger games)', 47)]\n",
            "[('barefoot contessa foolproof: recipes you can trust: a cookbook', 100), ('make it ahead: a barefoot contessa cookbook', 63), ('barefoot contessa, how easy is that?: fabulous recipes & easy tips', 56)]\n",
            "[('barefoot contessa, how easy is that?: fabulous recipes & easy tips', 100), ('barefoot contessa foolproof: recipes you can trust: a cookbook', 58), ('make it ahead: a barefoot contessa cookbook', 49)]\n",
            "[('becoming', 100), ('decision points', 43), ('the going-to-bed book', 41)]\n",
            "[('being mortal: medicine and what matters in the end', 100), ('the big short: inside the doomsday machine', 56), ('mastering the art of french cooking, vol. 2', 51)]\n",
            "[('between the world and me', 100), ('a wrinkle in time (time quintet)', 56), ('little bee: a novel', 52)]\n",
            "[('born to run', 100), ('the maze runner (book 1)', 48), ('hamilton: the revolution', 47)]\n",
            "[('breaking dawn (the twilight saga, book 4)', 100), ('new moon (the twilight saga)', 72), ('twilight (the twilight saga, book 1)', 65)]\n",
            "[('broke: the plan to restore our trust, truth and treasure', 100), ('fire and fury: inside the trump white house', 46), ('the body keeps the score: brain, mind, and body in the healing of trauma', 46)]\n",
            "[('brown bear, brown bear, what do you see?', 100), ('the book of basketball: the nba according to the sports guy', 42), ('the going-to-bed book', 41)]\n",
            "[('cabin fever (diary of a wimpy kid, book 6)', 100), ('diary of a wimpy kid: hard luck, book 8', 74), ('dog days (diary of a wimpy kid, book 4) (volume 4)', 69)]\n",
            "[('calm the f*ck down: an irreverent adult coloring book (irreverent book series)', 100), ('creative haven creative cats coloring book (adult coloring)', 58), ('adult coloring book: stress relieving animal designs', 52)]\n",
            "[(\"can't hurt me: master your mind and defy the odds\", 100), ('being mortal: medicine and what matters in the end', 54), ('mastering the art of french cooking, vol. 2', 54)]\n",
            "[('capital in the twenty first century', 100), ('the very hungry caterpillar', 52), ('fire and fury: inside the trump white house', 49)]\n",
            "[('catching fire (the hunger games)', 100), ('the hunger games', 70), ('the hunger games (book 1)', 68)]\n",
            "[('cravings: recipes for all the food you want to eat: a cookbook', 100), ('barefoot contessa foolproof: recipes you can trust: a cookbook', 53), ('homebody: a guide to creating spaces you never want to leave', 52)]\n",
            "[('crazy love: overwhelmed by a relentless god', 100), ('adult coloring book: stress relieving patterns', 48), ('go set a watchman: a novel', 48)]\n",
            "[('crazy rich asians (crazy rich asians trilogy)', 100), ('crazy love: overwhelmed by a relentless god', 38), ('happy, happy, happy: my life and legacy as the duck commander', 38)]\n",
            "[('creative haven creative cats coloring book (adult coloring)', 100), ('creative haven owls coloring book (adult coloring)', 82), ('dover creative haven art nouveau animal designs coloring book (creative haven coloring books)', 70)]\n",
            "[('creative haven owls coloring book (adult coloring)', 100), ('creative haven creative cats coloring book (adult coloring)', 82), ('dover creative haven art nouveau animal designs coloring book (creative haven coloring books)', 62)]\n",
            "[('cutting for stone', 100), ('the fault in our stars', 56), ('the litigators', 52)]\n",
            "[('daring greatly: how the courage to be vulnerable transforms the way we live, love, parent, and lead', 100), (\"good to great: why some companies make the leap and others don't\", 49), ('homebody: a guide to creating spaces you never want to leave', 48)]\n",
            "[('david and goliath: underdogs, misfits, and the art of battling giants', 100), ('dog man and cat kid: from the creator of captain underpants (dog man #4)', 51), ('delivering happiness: a path to profits, passion, and purpose', 48)]\n",
            "[('dead and gone: a sookie stackhouse novel (sookie stackhouse/true blood)', 100), ('dead in the family (sookie stackhouse/true blood, book 10)', 65), ('dead reckoning (sookie stackhouse/true blood, book 11)', 64)]\n",
            "[('dead in the family (sookie stackhouse/true blood, book 10)', 100), ('dead reckoning (sookie stackhouse/true blood, book 11)', 81), ('dead and gone: a sookie stackhouse novel (sookie stackhouse/true blood)', 65)]\n",
            "[('dead reckoning (sookie stackhouse/true blood, book 11)', 100), ('dead in the family (sookie stackhouse/true blood, book 10)', 81), ('dead and gone: a sookie stackhouse novel (sookie stackhouse/true blood)', 64)]\n",
            "[('dear zoo: a lift-the-flap book', 100), ('diary of a wimpy kid: the last straw (book 3)', 59), ('the lego ideas book: unlock your imagination', 53)]\n",
            "[('decision points', 100), ('eclipse (twilight)', 45), ('becoming', 43)]\n",
            "[('delivering happiness: a path to profits, passion, and purpose', 100), ('david and goliath: underdogs, misfits, and the art of battling giants', 48), ('national geographic kids why?: over 1,111 answers to everything', 44)]\n",
            "[('diagnostic and statistical manual of mental disorders, 5th edition: dsm-5', 100), ('publication manual of the american psychological association, 6th edition', 49), ('being mortal: medicine and what matters in the end', 45)]\n",
            "[('diary of a wimpy kid: hard luck, book 8', 100), ('cabin fever (diary of a wimpy kid, book 6)', 74), ('the meltdown (diary of a wimpy kid book 13)', 72)]\n",
            "[('diary of a wimpy kid: the last straw (book 3)', 100), ('the meltdown (diary of a wimpy kid book 13)', 82), ('diary of a wimpy kid: hard luck, book 8', 71)]\n",
            "[('diary of a wimpy kid: the long haul', 100), ('the meltdown (diary of a wimpy kid book 13)', 75), ('diary of a wimpy kid: hard luck, book 8', 70)]\n",
            "[('difficult riddles for smart kids: 300 difficult riddles and brain teasers families will love (books for smart kids)', 100), ('national geographic little kids first big book of why (national geographic little kids first big books)', 39), ('the dukan diet: 2 steps to lose the weight, 2 steps to keep it off forever', 39)]\n",
            "[('divergent', 100), ('divergent / insurgent', 64), ('inferno', 50)]\n",
            "[('divergent / insurgent', 100), ('divergent', 64), ('the silent patient', 49)]\n",
            "[('divine soul mind body healing and transmission system: the divine way to heal you, humanity, mother earth, and all…', 100), ('the body keeps the score: brain, mind, and body in the healing of trauma', 50), ('daring greatly: how the courage to be vulnerable transforms the way we live, love, parent, and lead', 45)]\n",
            "[('doctor sleep: a novel', 100), ('under the dome: a novel', 62), ('the confession: a novel', 57)]\n",
            "[('dog days (diary of a wimpy kid, book 4) (volume 4)', 100), ('cabin fever (diary of a wimpy kid, book 6)', 69), ('diary of a wimpy kid: hard luck, book 8', 68)]\n",
            "[('dog man and cat kid: from the creator of captain underpants (dog man #4)', 100), ('dog man: fetch-22: from the creator of captain underpants (dog man #8)', 84), ('dog man: a tale of two kitties: from the creator of captain underpants (dog man #3)', 82)]\n",
            "[('dog man: a tale of two kitties: from the creator of captain underpants (dog man #3)', 100), ('dog man: brawl of the wild: from the creator of captain underpants (dog man #6)', 83), ('dog man and cat kid: from the creator of captain underpants (dog man #4)', 82)]\n",
            "[('dog man: brawl of the wild: from the creator of captain underpants (dog man #6)', 100), ('dog man: for whom the ball rolls: from the creator of captain underpants (dog man #7)', 87), ('dog man: lord of the fleas: from the creator of captain underpants (dog man #5)', 84)]\n",
            "[('dog man: fetch-22: from the creator of captain underpants (dog man #8)', 100), ('dog man and cat kid: from the creator of captain underpants (dog man #4)', 84), ('dog man: lord of the fleas: from the creator of captain underpants (dog man #5)', 83)]\n",
            "[('dog man: for whom the ball rolls: from the creator of captain underpants (dog man #7)', 100), ('dog man: brawl of the wild: from the creator of captain underpants (dog man #6)', 87), ('dog man: lord of the fleas: from the creator of captain underpants (dog man #5)', 82)]\n",
            "[('dog man: lord of the fleas: from the creator of captain underpants (dog man #5)', 100), ('dog man: brawl of the wild: from the creator of captain underpants (dog man #6)', 84), ('dog man: fetch-22: from the creator of captain underpants (dog man #8)', 83)]\n",
            "[('double down (diary of a wimpy kid #11)', 100), ('diary of a wimpy kid: the long haul', 67), ('the meltdown (diary of a wimpy kid book 13)', 66)]\n",
            "[('dover creative haven art nouveau animal designs coloring book (creative haven coloring books)', 100), ('creative haven creative cats coloring book (adult coloring)', 70), ('creative haven owls coloring book (adult coloring)', 62)]\n",
            "[('drive: the surprising truth about what motivates us', 100), (\"grain brain: the surprising truth about wheat, carbs, and sugar--your brain's silent killers\", 57), ('the ugly truth (diary of a wimpy kid, book 5)', 50)]\n",
            "[('eat this not that! supermarket survival guide: the no-diet weight loss solution', 100), (\"george washington's secret six: the spy ring that saved the american revolution\", 50), ('the blood sugar solution: the ultrahealthy program for losing weight, preventing disease, and feeling great now!', 49)]\n",
            "[('eat this, not that! thousands of simple food swaps that can save you 10, 20, 30 pounds--or more!', 100), ('the pioneer woman cooks: a year of holidays: 140 step-by-step recipes for simple, scrumptious celebrations', 47), ('eat this not that! supermarket survival guide: the no-diet weight loss solution', 46)]\n",
            "[('eat to live: the amazing nutrient-rich program for fast and sustained weight loss, revised edition', 100), ('the blood sugar solution: the ultrahealthy program for losing weight, preventing disease, and feeling great now!', 51), ('rush revere and the first patriots: time-travel adventures with exceptional americans (2)', 47)]\n",
            "[('eclipse (twilight sagas)', 100), ('eclipse (twilight)', 84), ('the twilight saga collection', 68)]\n",
            "[('eclipse (twilight)', 100), ('eclipse (twilight sagas)', 84), ('the twilight saga collection', 64)]\n",
            "[('educated: a memoir', 100), ('true compass: a memoir', 58), ('a stolen life: a memoir', 51)]\n",
            "[('enchanted forest: an inky quest and coloring book (activity books, mindfulness and meditation, illustrated floral prints…', 100), ('secret garden: an inky treasure hunt and coloring book (for adults, mindfulness coloring)', 55), ('adult coloring books: a coloring book for adults featuring mandalas and henna inspired flowers, animals, and paisley…', 54)]\n",
            "[('fahrenheit 451', 100), ('frozen (little golden book)', 41), ('the maze runner (book 1)', 39)]\n",
            "[('fantastic beasts and where to find them: the original screenplay (harry potter)', 100), (\"harry potter and the sorcerer's stone: the illustrated edition (harry potter, book 1)\", 50), ('harry potter and the chamber of secrets: the illustrated edition (harry potter, book 2)', 49)]\n",
            "[('fear: trump in the white house', 100), ('fire and fury: inside the trump white house', 79), ('where the crawdads sing', 50)]\n",
            "[('fifty shades darker', 100), ('the love dare', 50), ('the racketeer', 50)]\n",
            "[('fifty shades freed: book three of the fifty shades trilogy (fifty shades of grey series) (english edition)', 100), ('fifty shades of grey: book one of the fifty shades trilogy (fifty shades of grey series)', 82), ('fifty shades trilogy (fifty shades of grey / fifty shades darker / fifty shades freed)', 76)]\n",
            "[('fifty shades of grey: book one of the fifty shades trilogy (fifty shades of grey series)', 100), ('fifty shades freed: book three of the fifty shades trilogy (fifty shades of grey series) (english edition)', 82), ('fifty shades trilogy (fifty shades of grey / fifty shades darker / fifty shades freed)', 76)]\n",
            "[('fifty shades trilogy (fifty shades of grey / fifty shades darker / fifty shades freed)', 100), ('fifty shades of grey: book one of the fifty shades trilogy (fifty shades of grey series)', 76), ('fifty shades freed: book three of the fifty shades trilogy (fifty shades of grey series) (english edition)', 75)]\n",
            "[('fire and fury: inside the trump white house', 100), ('fear: trump in the white house', 76), ('drive: the surprising truth about what motivates us', 48)]\n",
            "[('first 100 words', 100), ('a stolen life: a memoir', 38), ('cutting for stone', 38)]\n",
            "[(\"food rules: an eater's manual\", 100), ('12 rules for life: an antidote to chaos', 55), ('and the mountains echoed', 46)]\n",
            "[('frozen (little golden book)', 100), ('breaking dawn (the twilight saga, book 4)', 48), ('dear zoo: a lift-the-flap book', 48)]\n",
            "[('game change: obama and the clintons, mccain and palin, and the race of a lifetime', 100), ('the life-changing magic of tidying up: the japanese art of decluttering and organizing', 52), ('make your bed: little things that can change your life...and maybe the world', 49)]\n",
            "[('game of thrones boxed set: a game of thrones/a clash of kings/a storm of swords/a feast for crows', 100), ('a game of thrones / a clash of kings / a storm of swords / a feast of crows / a dance with dragons', 78), ('fifty shades of grey: book one of the fifty shades trilogy (fifty shades of grey series)', 48)]\n",
            "[(\"george washington's sacred fire\", 100), (\"george washington's secret six: the spy ring that saved the american revolution\", 50), ('the girl who played with fire (millennium)', 45)]\n",
            "[(\"george washington's secret six: the spy ring that saved the american revolution\", 100), ('the 5 love languages: the secret to love that lasts', 52), (\"the harbinger: the ancient mystery that holds the secret of america's future\", 52)]\n",
            "[(\"giraffes can't dance\", 100), ('a dance with dragons (a song of ice and fire)', 51), ('catching fire (the hunger games)', 48)]\n",
            "[('girl, stop apologizing: a shame-free plan for embracing and achieving your goals', 100), ('girl, wash your face: stop believing the lies about who you are so you can become who you were meant to be', 44), ('the four agreements: a practical guide to personal freedom (a toltec wisdom book)', 44)]\n",
            "[('girl, wash your face: stop believing the lies about who you are so you can become who you were meant to be', 100), (\"grain brain: the surprising truth about wheat, carbs, and sugar--your brain's silent killers\", 47), ('one thousand gifts: a dare to live fully right where you are', 43)]\n",
            "[(\"glenn beck's common sense: the case against an out-of-control government, inspired by thomas paine\", 100), ('secret garden: an inky treasure hunt and coloring book (for adults, mindfulness coloring)', 46), ('ship of fools: how a selfish ruling class is bringing america to the brink of revolution', 46)]\n",
            "[('go set a watchman: a novel', 100), ('the president is missing: a novel', 60), ('water for elephants: a novel', 58)]\n",
            "[('go the f**k to sleep', 100), ('journey to the ice p', 56), (\"oh, the places you'll go!\", 52)]\n",
            "[('going rogue: an american life', 100), (\"giraffes can't dance\", 50), ('the going-to-bed book', 49)]\n",
            "[('gone girl', 100), ('the girl on the train', 53), ('cutting for stone', 46)]\n",
            "[('good days start with gratitude: a 52 week guide to cultivate an attitude of gratitude: gratitude journal', 100), ('a game of thrones / a clash of kings / a storm of swords / a feast of crows / a dance with dragons', 44), ('game of thrones boxed set: a game of thrones/a clash of kings/a storm of swords/a feast for crows', 42)]\n",
            "[(\"good to great: why some companies make the leap and others don't\", 100), ('salt, fat, acid, heat: mastering the elements of good cooking', 52), ('the pioneer woman cooks: dinnertime - comfort classics, freezer food, 16-minute meals, and other delicious ways to solve…', 51)]\n",
            "[('goodnight moon', 100), ('night (night)', 56), ('if animals kissed good night', 43)]\n",
            "[('goodnight, goodnight construction site (hardcover books for toddlers, preschool books for kids)', 100), ('the goldfinch: a novel (pulitzer prize for fiction)', 46), ('unicorn coloring book: for kids ages 4-8 (us edition) (silly bear coloring books)', 42)]\n",
            "[(\"grain brain: the surprising truth about wheat, carbs, and sugar--your brain's silent killers\", 100), ('drive: the surprising truth about what motivates us', 49), ('harry potter and the prisoner of azkaban: the illustrated edition (harry potter, book 3)', 47)]\n",
            "[('grey: fifty shades of grey as told by christian (fifty shades of grey series)', 100), ('fifty shades of grey: book one of the fifty shades trilogy (fifty shades of grey series)', 69), ('fifty shades freed: book three of the fifty shades trilogy (fifty shades of grey series) (english edition)', 63)]\n",
            "[('guts', 100), ('the litigators', 33), ('allegiant', 31)]\n",
            "[('hamilton: the revolution', 100), ('the mueller report', 54), ('the martian', 53)]\n",
            "[('happy, happy, happy: my life and legacy as the duck commander', 100), ('harry potter and the chamber of secrets: the illustrated edition (harry potter, book 2)', 44), ('percy jackson and the olympians paperback boxed set (books 1-3)', 44)]\n",
            "[('harry potter and the chamber of secrets: the illustrated edition (harry potter, book 2)', 100), ('harry potter and the prisoner of azkaban: the illustrated edition (harry potter, book 3)', 84), (\"harry potter and the sorcerer's stone: the illustrated edition (harry potter, book 1)\", 84)]\n",
            "[('harry potter and the cursed child, parts 1 & 2, special rehearsal edition script', 100), (\"harry potter and the sorcerer's stone: the illustrated edition (harry potter, book 1)\", 55), ('harry potter and the chamber of secrets: the illustrated edition (harry potter, book 2)', 53)]\n",
            "[('harry potter and the goblet of fire: the illustrated edition (harry potter, book 4) (4)', 100), ('harry potter and the chamber of secrets: the illustrated edition (harry potter, book 2)', 80), ('harry potter and the prisoner of azkaban: the illustrated edition (harry potter, book 3)', 80)]\n",
            "[('harry potter and the prisoner of azkaban: the illustrated edition (harry potter, book 3)', 100), (\"harry potter and the sorcerer's stone: the illustrated edition (harry potter, book 1)\", 84), ('harry potter and the chamber of secrets: the illustrated edition (harry potter, book 2)', 83)]\n",
            "[(\"harry potter and the sorcerer's stone: the illustrated edition (harry potter, book 1)\", 100), ('harry potter and the chamber of secrets: the illustrated edition (harry potter, book 2)', 84), ('harry potter and the prisoner of azkaban: the illustrated edition (harry potter, book 3)', 82)]\n",
            "[('harry potter coloring book', 100), ('harry potter paperback box set (books 1-7)', 58), ('the going-to-bed book', 55)]\n",
            "[('harry potter paperback box set (books 1-7)', 100), ('percy jackson and the olympians paperback boxed set (books 1-3)', 65), ('harry potter coloring book', 58)]\n",
            "[('have a little faith: a true story', 100), ('little bee: a novel', 52), ('liberty and tyranny: a conservative manifesto', 50)]\n",
            "[(\"heaven is for real: a little boy's astounding story of his trip to heaven and back\", 100), ('love wins: a book about heaven, hell, and the fate of every person who ever lived', 49), ('arguing with idiots: how to stop small minds and big government', 48)]\n",
            "[('hillbilly elegy: a memoir of a family and culture in crisis', 100), (\"in the garden of beasts: love, terror, and an american family in hitler's berlin\", 46), ('lean in: women, work, and the will to lead', 39)]\n",
            "[('homebody: a guide to creating spaces you never want to leave', 100), ('cravings: recipes for all the food you want to eat: a cookbook', 52), ('daring greatly: how the courage to be vulnerable transforms the way we live, love, parent, and lead', 49)]\n",
            "[('how to win friends & influence people', 100), ('fear: trump in the white house', 47), ('lean in: women, work, and the will to lead', 46)]\n",
            "[('howard stern comes again', 100), ('a stolen life: a memoir', 57), ('the sun and her flowers', 55)]\n",
            "[('humans of new york', 100), ('humans of new york : stories', 82), ('mindset: the new psychology of success', 47)]\n",
            "[('humans of new york : stories', 100), ('humans of new york', 82), ('mindset: the new psychology of success', 51)]\n",
            "[('hyperbole and a half: unfortunate situations, flawed coping mechanisms, mayhem, and other things that happened', 100), ('things that matter: three decades of passions, pastimes and politics [deckled edge]', 45), ('act like a lady, think like a man: what men really think about love, relationships, intimacy, and commitment', 44)]\n",
            "[('i am confident, brave & beautiful: a coloring book for girls', 100), ('unicorn coloring book: for kids ages 4-8 (us edition) (silly bear coloring books)', 56), ('creative haven owls coloring book (adult coloring)', 54)]\n",
            "[('i, alex cross', 100), ('true compass: a memoir', 48), ('leonardo da vinci', 41)]\n",
            "[('if animals kissed good night', 100), ('night (night)', 46), ('go the f**k to sleep', 43)]\n",
            "[('if i stay', 100), ('cutting for stone', 46), ('fifty shades darker', 43)]\n",
            "[(\"in the garden of beasts: love, terror, and an american family in hitler's berlin\", 100), ('secret garden: an inky treasure hunt and coloring book (for adults, mindfulness coloring)', 51), ('the boys in the boat: nine americans and their epic quest for gold at the 1936 berlin olympics', 51)]\n",
            "[('inferno', 100), ('life', 55), ('divergent', 50)]\n",
            "[('inheritance: book iv (inheritance cycle)', 100), ('the throne of fire (the kane chronicles, book 2)', 46), ('strange planet (strange planet series)', 44)]\n",
            "[('instant pot pressure cooker cookbook: 500 everyday recipes for beginners and advanced users. try easy and healthy…', 100), ('the instant pot electric pressure cooker cookbook: easy recipes for fast & healthy meals', 70), ('super freakonomics: global cooling, patriotic prostitutes, and why suicide bombers should buy life insurance', 42)]\n",
            "[(\"it's not supposed to be this way: finding unexpected strength when disappointments leave you shattered\", 100), ('daring greatly: how the courage to be vulnerable transforms the way we live, love, parent, and lead', 43), (\"a patriot's history of the united states: from columbus's great discovery to the war on terror\", 42)]\n",
            "[('jesus calling: enjoying peace in his presence (with scripture references)', 100), (\"three cups of tea: one man's mission to promote peace - one school at a time\", 43), ('being mortal: medicine and what matters in the end', 42)]\n",
            "[('journey to the ice p', 100), ('the wonky donkey', 56), ('the pout-pout fish', 53)]\n",
            "[('joyland (hard case crime)', 100), ('howard stern comes again', 51), (\"the time traveler's wife\", 43)]\n",
            "[('killers of the flower moon: the osage murders and the birth of the fbi', 100), ('the body keeps the score: brain, mind, and body in the healing of trauma', 54), ('the book of basketball: the nba according to the sports guy', 50)]\n",
            "[(\"killing jesus (bill o'reilly's killing series)\", 100), (\"killing reagan: the violent assault that changed a presidency (bill o'reilly's killing series)\", 59), (\"killing the rising sun: how america vanquished world war ii japan (bill o'reilly's killing series)\", 58)]\n",
            "[('killing kennedy: the end of camelot', 100), ('and the mountains echoed', 48), ('mastering the art of french cooking, vol. 2', 45)]\n",
            "[(\"killing lincoln: the shocking assassination that changed america forever (bill o'reilly's killing series)\", 100), (\"killing reagan: the violent assault that changed a presidency (bill o'reilly's killing series)\", 68), (\"killing the rising sun: how america vanquished world war ii japan (bill o'reilly's killing series)\", 58)]\n",
            "[(\"killing patton: the strange death of world war ii's most audacious general (bill o'reilly's killing series)\", 100), (\"killing the rising sun: how america vanquished world war ii japan (bill o'reilly's killing series)\", 65), (\"killing reagan: the violent assault that changed a presidency (bill o'reilly's killing series)\", 61)]\n",
            "[(\"killing reagan: the violent assault that changed a presidency (bill o'reilly's killing series)\", 100), (\"killing lincoln: the shocking assassination that changed america forever (bill o'reilly's killing series)\", 68), (\"killing patton: the strange death of world war ii's most audacious general (bill o'reilly's killing series)\", 61)]\n",
            "[(\"killing the rising sun: how america vanquished world war ii japan (bill o'reilly's killing series)\", 100), (\"killing patton: the strange death of world war ii's most audacious general (bill o'reilly's killing series)\", 65), (\"killing jesus (bill o'reilly's killing series)\", 58)]\n",
            "[('kitchen confidential updated edition: adventures in the culinary underbelly (p.s.)', 100), ('rush revere and the first patriots: time-travel adventures with exceptional americans (2)', 46), ('rush revere and the brave pilgrims: time-travel adventures with exceptional americans (1)', 44)]\n",
            "[('knock-knock jokes for kids', 100), ('laugh-out-loud jokes for kids', 65), ('the lego ideas book: unlock your imagination', 41)]\n",
            "[('last week tonight with john oliver presents a day in the life of marlon bundo (better bundo book, lgbt children\\x92s book)', 99), ('love wins: a book about heaven, hell, and the fate of every person who ever lived', 45), ('the power of habit: why we do what we do in life and business', 43)]\n",
            "[('laugh-out-loud jokes for kids', 100), ('knock-knock jokes for kids', 62), ('love you forever', 44)]\n",
            "[('lean in: women, work, and the will to lead', 100), ('wheat belly: lose the wheat, lose the weight, and find your path back to health', 52), ('the wonderful things you will be', 51)]\n",
            "[('leonardo da vinci', 100), ('thinking, fast and slow', 46), ('decision points', 44)]\n",
            "[(\"lettering and modern calligraphy: a beginner's guide: learn hand lettering and brush lettering\", 100), ('adult coloring books: a coloring book for adults featuring mandalas and henna inspired flowers, animals, and paisley…', 40), ('the life-changing magic of tidying up: the japanese art of decluttering and organizing', 40)]\n",
            "[('liberty and tyranny: a conservative manifesto', 100), ('have a little faith: a true story', 50), ('homebody: a guide to creating spaces you never want to leave', 45)]\n",
            "[('life', 100), ('inferno', 55), ('the alchemist', 35)]\n",
            "[('little bee: a novel', 100), ('the nightingale: a novel', 59), ('a man called ove: a novel', 57)]\n",
            "[('little blue truck', 100), ('little bee: a novel', 57), ('have a little faith: a true story', 49)]\n",
            "[('little fires everywhere', 100), ('frozen (little golden book)', 46), ('little bee: a novel', 44)]\n",
            "[('looking for alaska', 100), ('thinking, fast and slow', 50), ('alexander hamilton', 44)]\n",
            "[('love wins: a book about heaven, hell, and the fate of every person who ever lived', 100), (\"in the garden of beasts: love, terror, and an american family in hitler's berlin\", 52), ('the plant paradox cookbook: 100 delicious recipes to help you lose weight, heal your gut, and live lectin-free', 51)]\n",
            "[('love you forever', 100), ('the love dare', 55), ('go the f**k to sleep', 46)]\n",
            "[('magnolia table: a collection of recipes for gathering', 100), ('mastering the art of french cooking, vol. 2', 52), ('the instant pot electric pressure cooker cookbook: easy recipes for fast & healthy meals', 50)]\n",
            "[('make it ahead: a barefoot contessa cookbook', 100), ('barefoot contessa foolproof: recipes you can trust: a cookbook', 63), ('barefoot contessa, how easy is that?: fabulous recipes & easy tips', 47)]\n",
            "[('make your bed: little things that can change your life...and maybe the world', 100), ('the tipping point: how little things can make a big difference', 55), ('game change: obama and the clintons, mccain and palin, and the race of a lifetime', 48)]\n",
            "[('mastering the art of french cooking, vol. 2', 100), ('salt, fat, acid, heat: mastering the elements of good cooking', 61), ('the mark of athena (heroes of olympus, book 3)', 50)]\n",
            "[('milk and honey', 100), ('and the mountains echoed', 53), ('alexander hamilton', 50)]\n",
            "[('milk and vine: inspirational quotes from classic vines', 100), ('adult coloring book: stress relieving patterns', 43), ('liberty and tyranny: a conservative manifesto', 43)]\n",
            "[('mindset: the new psychology of success', 100), ('outliers: the story of success', 55), ('humans of new york : stories', 51)]\n",
            "[('mockingjay (the hunger games)', 100), ('the hunger games', 74), ('the hunger games (book 1)', 64)]\n",
            "[('national geographic kids why?: over 1,111 answers to everything', 100), ('5,000 awesome facts (about everything!) (national geographic kids)', 69), ('national geographic little kids first big book of why (national geographic little kids first big books)', 51)]\n",
            "[('national geographic little kids first big book of why (national geographic little kids first big books)', 100), ('national geographic kids why?: over 1,111 answers to everything', 48), ('difficult riddles for smart kids: 300 difficult riddles and brain teasers families will love (books for smart kids)', 42)]\n",
            "[('new moon (the twilight saga)', 100), ('the twilight saga collection', 78), ('breaking dawn (the twilight saga, book 4)', 72)]\n",
            "[('night (night)', 100), ('goodnight moon', 56), ('if animals kissed good night', 46)]\n",
            "[('no easy day: the autobiography of a navy seal: the firsthand account of the mission that killed osama bin laden', 100), ('american sniper: the autobiography of the most lethal sniper in u.s. military history', 54), (\"the harbinger: the ancient mystery that holds the secret of america's future\", 50)]\n",
            "[('obama: an intimate portrait', 100), ('a wrinkle in time (time quintet)', 46), ('baby touch and feel: animals', 45)]\n",
            "[(\"oh, the places you'll go!\", 100), ('the hate u give', 58), ('go the f**k to sleep', 52)]\n",
            "[('old school (diary of a wimpy kid #10)', 100), ('the third wheel (diary of a wimpy kid, book 7)', 68), ('diary of a wimpy kid: the long haul', 65)]\n",
            "[('olive kitteridge', 100), ('little bee: a novel', 47), ('the nightingale: a novel', 46)]\n",
            "[('one thousand gifts: a dare to live fully right where you are', 100), ('uninvited: living loved when you feel less than, left out, and lonely', 53), ('homebody: a guide to creating spaces you never want to leave', 49)]\n",
            "[('option b: facing adversity, building resilience, and finding joy', 100), (\"in the garden of beasts: love, terror, and an american family in hitler's berlin\", 45), ('adult coloring book designs: stress relief coloring book: garden designs, mandalas, animals, and paisley patterns', 43)]\n",
            "[('origin: a novel (robert langdon)', 100), ('the art of racing in the rain: a novel', 61), ('under the dome: a novel', 55)]\n",
            "[('orphan train', 100), ('tina fey: bossypants', 52), ('the girl on the train', 48)]\n",
            "[('outliers: the story of success', 100), ('mindset: the new psychology of success', 58), ('the fault in our stars', 55)]\n",
            "[('p is for potty! (sesame street) (lift-the-flap)', 100), ('have a little faith: a true story', 46), ('strange planet (strange planet series)', 44)]\n",
            "[('percy jackson and the olympians paperback boxed set (books 1-3)', 100), ('the last olympian (percy jackson and the olympians, book 5)', 67), ('harry potter paperback box set (books 1-7)', 65)]\n",
            "[(\"player's handbook (dungeons & dragons)\", 100), ('howard stern comes again', 41), ('ready player one: a novel', 41)]\n",
            "[('pokémon deluxe essential handbook: the need-to-know stats and facts on over 700 pokémon', 100), ('harry potter and the prisoner of azkaban: the illustrated edition (harry potter, book 3)', 42), (\"proof of heaven: a neurosurgeon's journey into the afterlife\", 42)]\n",
            "[(\"proof of heaven: a neurosurgeon's journey into the afterlife\", 100), ('pokémon deluxe essential handbook: the need-to-know stats and facts on over 700 pokémon', 45), ('the 7 habits of highly effective people: powerful lessons in personal change', 45)]\n",
            "[('publication manual of the american psychological association, 6th edition', 100), ('radical: taking back your faith from the american dream', 46), ('diagnostic and statistical manual of mental disorders, 5th edition: dsm-5', 45)]\n",
            "[('puppy birthday to you! (paw patrol) (little golden book)', 100), ('frozen (little golden book)', 47), ('have a little faith: a true story', 46)]\n",
            "[(\"quiet: the power of introverts in a world that can't stop talking\", 100), ('the art of racing in the rain: a novel', 53), ('unbroken: a world war ii story of survival, resilience, and redemption', 50)]\n",
            "[('radical: taking back your faith from the american dream', 100), ('going rogue: an american life', 49), ('dog man: fetch-22: from the creator of captain underpants (dog man #8)', 47)]\n",
            "[('ready player one: a novel', 100), ('under the dome: a novel', 52), ('origin: a novel (robert langdon)', 49)]\n",
            "[('rush revere and the brave pilgrims: time-travel adventures with exceptional americans (1)', 100), ('rush revere and the first patriots: time-travel adventures with exceptional americans (2)', 87), ('the boys in the boat: nine americans and their epic quest for gold at the 1936 berlin olympics', 47)]\n",
            "[('rush revere and the first patriots: time-travel adventures with exceptional americans (2)', 100), ('rush revere and the brave pilgrims: time-travel adventures with exceptional americans (1)', 87), ('eat to live: the amazing nutrient-rich program for fast and sustained weight loss, revised edition', 47)]\n",
            "[('salt, fat, acid, heat: mastering the elements of good cooking', 100), ('mastering the art of french cooking, vol. 2', 61), (\"can't hurt me: master your mind and defy the odds\", 53)]\n",
            "[(\"sarah's key\", 100), ('sh*t my dad says', 44), (\"george washington's sacred fire\", 43)]\n",
            "[('school zone - big preschool workbook - ages 4 and up, colors, shapes, numbers 1-10, alphabet, pre-writing, pre-reading…', 100), (\"three cups of tea: one man's mission to promote peace - one school at a time\", 42), (\"grain brain: the surprising truth about wheat, carbs, and sugar--your brain's silent killers\", 35)]\n",
            "[('secret garden: an inky treasure hunt and coloring book (for adults, mindfulness coloring)', 100), ('adult coloring books: a coloring book for adults featuring mandalas and henna inspired flowers, animals, and paisley…', 57), ('creative haven owls coloring book (adult coloring)', 56)]\n",
            "[('sh*t my dad says', 100), ('fifty shades darker', 46), (\"the handmaid's tale\", 46)]\n",
            "[('ship of fools: how a selfish ruling class is bringing america to the brink of revolution', 100), ('the pioneer woman cooks: a year of holidays: 140 step-by-step recipes for simple, scrumptious celebrations', 47), (\"george washington's secret six: the spy ring that saved the american revolution\", 46)]\n",
            "[('shred: the revolutionary diet: 6 weeks 4 inches 2 sizes', 100), ('hamilton: the revolution', 47), (\"george washington's secret six: the spy ring that saved the american revolution\", 46)]\n",
            "[('sookie stackhouse', 100), ('dead reckoning (sookie stackhouse/true blood, book 11)', 50), ('dead in the family (sookie stackhouse/true blood, book 10)', 47)]\n",
            "[('soul healing miracles: ancient and new sacred wisdom, knowledge, and practical techniques for healing the spiritual…', 100), ('divine soul mind body healing and transmission system: the divine way to heal you, humanity, mother earth, and all…', 41), ('the body keeps the score: brain, mind, and body in the healing of trauma', 40)]\n",
            "[('steve jobs', 100), ('the lost symbol', 48), ('the book thief', 42)]\n",
            "[('strange planet (strange planet series)', 100), ('the girl who played with fire (millennium series)', 46), ('the last lecture', 46)]\n",
            "[('strengthsfinder 2.0', 100), ('under the dome: a novel', 44), ('the wonderful things you will be', 43)]\n",
            "[('super freakonomics: global cooling, patriotic prostitutes, and why suicide bombers should buy life insurance', 100), ('you are a badass: how to stop doubting your greatness and start living an awesome life', 42), ('the 4 hour body: an uncommon guide to rapid fat loss, incredible sex and becoming superhuman', 40)]\n",
            "[('switch: how to change things when change is hard', 100), ('what should danny do? (the power to choose series)', 49), ('fire and fury: inside the trump white house', 47)]\n",
            "[('sycamore row (jake brigance)', 100), ('howard stern comes again', 44), ('the big short: inside the doomsday machine', 42)]\n",
            "[('teach like a champion: 49 techniques that put students on the path to college', 100), (\"three cups of tea: one man's mission to promote peace - one school at a time\", 51), (\"quiet: the power of introverts in a world that can't stop talking\", 49)]\n",
            "[(\"the 17 day diet: a doctor's plan designed for rapid results\", 100), ('12 rules for life: an antidote to chaos', 48), ('harry potter and the cursed child, parts 1 & 2, special rehearsal edition script', 48)]\n",
            "[('the 4 hour body: an uncommon guide to rapid fat loss, incredible sex and becoming superhuman', 100), ('the road to serfdom: text and documents--the definitive edition (the collected works of f. a. hayek, volume 2)', 47), ('eat to live: the amazing nutrient-rich program for fast and sustained weight loss, revised edition', 46)]\n",
            "[('the 5 love languages: the secret to love that lasts', 100), (\"the harbinger: the ancient mystery that holds the secret of america's future\", 54), (\"george washington's secret six: the spy ring that saved the american revolution\", 50)]\n",
            "[('the 5000 year leap', 100), ('go the f**k to sleep', 49), ('the help', 46)]\n",
            "[('the 7 habits of highly effective people: powerful lessons in personal change', 100), ('harry potter and the chamber of secrets: the illustrated edition (harry potter, book 2)', 46), ('harry potter and the prisoner of azkaban: the illustrated edition (harry potter, book 3)', 45)]\n",
            "[('the alchemist', 100), ('the racketeer', 62), ('and the mountains echoed', 59)]\n",
            "[('the amateur', 100), ('the hunger games', 67), ('the last lecture', 67)]\n",
            "[('the art of racing in the rain: a novel', 100), ('origin: a novel (robert langdon)', 58), ('the guardians: a novel', 55)]\n",
            "[('the big short: inside the doomsday machine', 100), ('being mortal: medicine and what matters in the end', 56), ('the art of racing in the rain: a novel', 54)]\n",
            "[('the blood of olympus (the heroes of olympus (5))', 100), ('the son of neptune (heroes of olympus, book 2)', 71), ('the house of hades (heroes of olympus, book 4)', 69)]\n",
            "[('the blood sugar solution: the ultrahealthy program for losing weight, preventing disease, and feeling great now!', 100), ('eat to live: the amazing nutrient-rich program for fast and sustained weight loss, revised edition', 52), ('eat this not that! supermarket survival guide: the no-diet weight loss solution', 49)]\n",
            "[('the body keeps the score: brain, mind, and body in the healing of trauma', 100), ('killers of the flower moon: the osage murders and the birth of the fbi', 51), ('the power of habit: why we do what we do in life and business', 50)]\n",
            "[('the book of basketball: the nba according to the sports guy', 100), ('cravings: recipes for all the food you want to eat: a cookbook', 51), ('the body keeps the score: brain, mind, and body in the healing of trauma', 50)]\n",
            "[('the book thief', 100), ('the going-to-bed book', 57), ('the book with no pictures', 56)]\n",
            "[('the book with no pictures', 100), ('the paris wife: a novel', 60), ('the wright brothers', 59)]\n",
            "[('the boys in the boat: nine americans and their epic quest for gold at the 1936 berlin olympics', 100), (\"in the garden of beasts: love, terror, and an american family in hitler's berlin\", 52), (\"the harbinger: the ancient mystery that holds the secret of america's future\", 46)]\n",
            "[('the casual vacancy', 100), ('the very hungry caterpillar', 44), ('the day the crayons quit', 43)]\n",
            "[('the china study: the most comprehensive study of nutrition ever conducted and the startling implications for diet…', 100), ('things that matter: three decades of passions, pastimes and politics [deckled edge]', 46), ('game change: obama and the clintons, mccain and palin, and the race of a lifetime', 43)]\n",
            "[('the complete ketogenic diet for beginners: your essential guide to living the keto lifestyle', 100), ('the dukan diet: 2 steps to lose the weight, 2 steps to keep it off forever', 47), (\"quiet: the power of introverts in a world that can't stop talking\", 43)]\n",
            "[('the confession: a novel', 100), ('the guardians: a novel', 65), ('under the dome: a novel', 64)]\n",
            "[('the constitution of the united states', 100), ('the book of basketball: the nba according to the sports guy', 53), ('the twilight saga collection', 52)]\n",
            "[(\"the daily show with jon stewart presents earth (the book): a visitor's guide to the human race\", 100), (\"a patriot's history of the united states: from columbus's great discovery to the war on terror\", 51), ('the dukan diet: 2 steps to lose the weight, 2 steps to keep it off forever', 49)]\n",
            "[('the day the crayons quit', 100), ('where the crawdads sing', 55), ('journey to the ice p', 50)]\n",
            "[('the dukan diet: 2 steps to lose the weight, 2 steps to keep it off forever', 100), (\"the daily show with jon stewart presents earth (the book): a visitor's guide to the human race\", 54), ('eat this not that! supermarket survival guide: the no-diet weight loss solution', 48)]\n",
            "[('the elegance of the hedgehog', 100), ('the day the crayons quit', 50), ('the hunger games', 50)]\n",
            "[('the fault in our stars', 100), ('cutting for stone', 56), ('outliers: the story of success', 55)]\n",
            "[('the five dysfunctions of a team: a leadership fable', 100), ('a higher loyalty: truth, lies, and leadership', 50), ('a dance with dragons (a song of ice and fire)', 49)]\n",
            "[('the five love languages: how to express heartfelt commitment to your mate', 100), ('daring greatly: how the courage to be vulnerable transforms the way we live, love, parent, and lead', 47), ('wheat belly: lose the wheat, lose the weight, and find your path back to health', 46)]\n",
            "[('the four agreements: a practical guide to personal freedom (a toltec wisdom book)', 100), ('the whole30: the 30-day guide to total health and food freedom', 59), ('wild: from lost to found on the pacific crest trail', 52)]\n",
            "[('the getaway', 100), ('the martian', 55), ('the hate u give', 54)]\n",
            "[('the girl on the train', 100), ('the hate u give', 56), ('gone girl', 53)]\n",
            "[(\"the girl who kicked the hornet's nest (millennium trilogy)\", 100), ('the girl with the dragon tattoo (millennium series)', 57), ('the girl who played with fire (millennium series)', 52)]\n",
            "[('the girl who played with fire (millennium series)', 100), ('the girl who played with fire (millennium)', 92), ('the girl with the dragon tattoo (millennium series)', 73)]\n",
            "[('the girl who played with fire (millennium)', 100), ('the girl who played with fire (millennium series)', 92), ('the girl with the dragon tattoo (millennium series)', 65)]\n",
            "[('the girl with the dragon tattoo (millennium series)', 100), ('the girl who played with fire (millennium series)', 73), ('the girl who played with fire (millennium)', 63)]\n",
            "[('the going-to-bed book', 100), ('the hunger games (book 1)', 59), ('the book thief', 57)]\n",
            "[('the goldfinch: a novel (pulitzer prize for fiction)', 100), ('the president is missing: a novel', 55), ('the nightingale: a novel', 51)]\n",
            "[('the great gatsby', 100), ('the hunger games', 62), ('the last lecture', 56)]\n",
            "[('the guardians: a novel', 100), ('the confession: a novel', 65), ('the nightingale: a novel', 64)]\n",
            "[('the guernsey literary and potato peel pie society', 100), ('p is for potty! (sesame street) (lift-the-flap)', 51), ('being mortal: medicine and what matters in the end', 49)]\n",
            "[(\"the handmaid's tale\", 100), ('the amateur', 60), ('the magnolia story', 54)]\n",
            "[(\"the harbinger: the ancient mystery that holds the secret of america's future\", 100), (\"george washington's secret six: the spy ring that saved the american revolution\", 56), ('no easy day: the autobiography of a navy seal: the firsthand account of the mission that killed osama bin laden', 51)]\n",
            "[('the hate u give', 100), ('the hunger games', 58), ('the girl on the train', 56)]\n",
            "[('the help', 100), ('the alchemist', 57), ('the love dare', 57)]\n",
            "[('the house of hades (heroes of olympus, book 4)', 100), ('the lost hero (heroes of olympus, book 1)', 81), ('the son of neptune (heroes of olympus, book 2)', 77)]\n",
            "[('the hunger games', 100), ('the hunger games (book 1)', 82), ('mockingjay (the hunger games)', 74)]\n",
            "[('the hunger games (book 1)', 100), ('the hunger games', 82), ('the maze runner (book 1)', 80)]\n",
            "[('the hunger games trilogy boxed set (1)', 100), ('the hunger games (book 1)', 71), ('the hunger games', 62)]\n",
            "[('the immortal life of henrietta lacks', 100), ('diary of a wimpy kid: the long haul', 49), ('dear zoo: a lift-the-flap book', 46)]\n",
            "[('the instant pot electric pressure cooker cookbook: easy recipes for fast & healthy meals', 100), ('instant pot pressure cooker cookbook: 500 everyday recipes for beginners and advanced users. try easy and healthy…', 70), ('magnolia table: a collection of recipes for gathering', 50)]\n",
            "[('the last lecture', 100), ('the amateur', 67), ('the silent patient', 59)]\n",
            "[('the last olympian (percy jackson and the olympians, book 5)', 100), ('percy jackson and the olympians paperback boxed set (books 1-3)', 67), ('the blood of olympus (the heroes of olympus (5))', 58)]\n",
            "[('the legend of zelda: hyrule historia', 100), ('diary of a wimpy kid: the long haul', 49), ('the elegance of the hedgehog', 48)]\n",
            "[('the lego ideas book: unlock your imagination', 100), ('dear zoo: a lift-the-flap book', 53), ('the going-to-bed book', 47)]\n",
            "[('the life-changing magic of tidying up: the japanese art of decluttering and organizing', 100), ('the short second life of bree tanner: an eclipse novella (the twilight saga)', 54), ('game change: obama and the clintons, mccain and palin, and the race of a lifetime', 49)]\n",
            "[('the litigators', 100), ('the magnolia story', 62), ('the amateur', 56)]\n",
            "[('the lost hero (heroes of olympus, book 1)', 100), ('the house of hades (heroes of olympus, book 4)', 81), ('the mark of athena (heroes of olympus, book 3)', 72)]\n",
            "[('the lost symbol', 100), ('the last lecture', 58), ('the alchemist', 50)]\n",
            "[('the love dare', 100), ('the guardians: a novel', 59), ('the silent patient', 58)]\n",
            "[('the magnolia story', 100), ('the litigators', 62), ('outliers: the story of success', 55)]\n",
            "[('the mark of athena (heroes of olympus, book 3)', 100), ('the house of hades (heroes of olympus, book 4)', 72), ('the lost hero (heroes of olympus, book 1)', 72)]\n",
            "[('the martian', 100), ('the amateur', 64), ('the guardians: a novel', 56)]\n",
            "[('the maze runner (book 1)', 100), ('the hunger games (book 1)', 80), ('the book thief', 56)]\n",
            "[('the meltdown (diary of a wimpy kid book 13)', 100), ('diary of a wimpy kid: the last straw (book 3)', 82), ('diary of a wimpy kid: the long haul', 75)]\n",
            "[('the mueller report', 100), ('hamilton: the revolution', 54), ('the help', 54)]\n",
            "[('the nightingale: a novel', 100), ('the confession: a novel', 67), ('little bee: a novel', 59)]\n",
            "[('the official sat study guide', 100), ('the official sat study guide, 2016 edition (official study guide for the new sat)', 53), ('the magnolia story', 52)]\n",
            "[('the official sat study guide, 2016 edition (official study guide for the new sat)', 100), ('the official sat study guide', 53), ('game of thrones boxed set: a game of thrones/a clash of kings/a storm of swords/a feast for crows', 46)]\n",
            "[('the paris wife: a novel', 100), ('the book with no pictures', 60), ('under the dome: a novel', 59)]\n",
            "[('the pioneer woman cooks: a year of holidays: 140 step-by-step recipes for simple, scrumptious celebrations', 100), ('eat this, not that! thousands of simple food swaps that can save you 10, 20, 30 pounds--or more!', 48), ('magnolia table: a collection of recipes for gathering', 44)]\n",
            "[('the pioneer woman cooks: dinnertime - comfort classics, freezer food, 16-minute meals, and other delicious ways to solve…', 100), (\"good to great: why some companies make the leap and others don't\", 49), ('the plant paradox cookbook: 100 delicious recipes to help you lose weight, heal your gut, and live lectin-free', 48)]\n",
            "[('the pioneer woman cooks: food from my frontier', 100), ('cravings: recipes for all the food you want to eat: a cookbook', 48), ('wild: from lost to found on the pacific crest trail', 48)]\n",
            "[('the plant paradox cookbook: 100 delicious recipes to help you lose weight, heal your gut, and live lectin-free', 100), ('wheat belly: lose the wheat, lose the weight, and find your path back to health', 56), ('cravings: recipes for all the food you want to eat: a cookbook', 51)]\n",
            "[('the plant paradox: the hidden dangers in \"healthy\" foods that cause disease and weight gain', 100), ('the plant paradox cookbook: 100 delicious recipes to help you lose weight, heal your gut, and live lectin-free', 50), ('wheat belly: lose the wheat, lose the weight, and find your path back to health', 49)]\n",
            "[('the pout-pout fish', 100), ('outliers: the story of success', 51), ('the fault in our stars', 50)]\n",
            "[('the power of habit: why we do what we do in life and business', 100), ('wheat belly: lose the wheat, lose the weight, and find your path back to health', 54), (\"good to great: why some companies make the leap and others don't\", 52)]\n",
            "[('the president is missing: a novel', 100), ('the confession: a novel', 59), ('the nightingale: a novel', 58)]\n",
            "[('the racketeer', 100), ('the amateur', 67), ('the alchemist', 62)]\n",
            "[('the red pyramid (the kane chronicles, book 1)', 100), (\"the serpent's shadow (the kane chronicles, book 3)\", 74), ('the throne of fire (the kane chronicles, book 2)', 69)]\n",
            "[('the road to serfdom: text and documents--the definitive edition (the collected works of f. a. hayek, volume 2)', 100), ('tools of titans: the tactics, routines, and habits of billionaires, icons, and world-class performers', 48), ('the china study: the most comprehensive study of nutrition ever conducted and the startling implications for diet…', 47)]\n",
            "[(\"the serpent's shadow (the kane chronicles, book 3)\", 100), ('the red pyramid (the kane chronicles, book 1)', 74), ('the throne of fire (the kane chronicles, book 2)', 67)]\n",
            "[('the shack: where tragedy confronts eternity', 100), (\"the serpent's shadow (the kane chronicles, book 3)\", 52), ('where the crawdads sing', 46)]\n",
            "[('the short second life of bree tanner: an eclipse novella (the twilight saga)', 100), ('the life-changing magic of tidying up: the japanese art of decluttering and organizing', 51), ('the 5 love languages: the secret to love that lasts', 49)]\n",
            "[('the silent patient', 100), ('the last lecture', 59), ('the love dare', 58)]\n",
            "[('the son of neptune (heroes of olympus, book 2)', 100), ('the house of hades (heroes of olympus, book 4)', 77), ('the lost hero (heroes of olympus, book 1)', 72)]\n",
            "[('the subtle art of not giving a f*ck: a counterintuitive approach to living a good life', 100), ('game change: obama and the clintons, mccain and palin, and the race of a lifetime', 48), ('the pioneer woman cooks: dinnertime - comfort classics, freezer food, 16-minute meals, and other delicious ways to solve…', 46)]\n",
            "[('the sun and her flowers', 100), ('the hunger games', 56), ('and the mountains echoed', 55)]\n",
            "[('the third wheel (diary of a wimpy kid, book 7)', 100), ('the ugly truth (diary of a wimpy kid, book 5)', 82), ('diary of a wimpy kid: the last straw (book 3)', 71)]\n",
            "[('the throne of fire (the kane chronicles, book 2)', 100), ('the red pyramid (the kane chronicles, book 1)', 69), (\"the serpent's shadow (the kane chronicles, book 3)\", 67)]\n",
            "[(\"the time traveler's wife\", 100), ('the girl on the train', 53), ('where the wild things are', 53)]\n",
            "[('the tipping point: how little things can make a big difference', 100), ('make your bed: little things that can change your life...and maybe the world', 55), ('switch: how to change things when change is hard', 48)]\n",
            "[('the total money makeover: classic edition: a proven plan for financial fitness', 100), ('pokémon deluxe essential handbook: the need-to-know stats and facts on over 700 pokémon', 46), ('eat to live: the amazing nutrient-rich program for fast and sustained weight loss, revised edition', 45)]\n",
            "[('the twilight saga collection', 100), ('new moon (the twilight saga)', 78), ('eclipse (twilight sagas)', 68)]\n",
            "[('the ugly truth (diary of a wimpy kid, book 5)', 100), ('the third wheel (diary of a wimpy kid, book 7)', 82), ('the meltdown (diary of a wimpy kid book 13)', 72)]\n",
            "[('the unofficial harry potter cookbook: from cauldron cakes to knickerbocker glory--more than 150 magical recipes for…', 100), ('the plant paradox cookbook: 100 delicious recipes to help you lose weight, heal your gut, and live lectin-free', 46), ('harry potter and the goblet of fire: the illustrated edition (harry potter, book 4) (4)', 43)]\n",
            "[('the very hungry caterpillar', 100), ('the hunger games', 56), ('catching fire (the hunger games)', 53)]\n",
            "[('the whole30: the 30-day guide to total health and food freedom', 100), ('the four agreements: a practical guide to personal freedom (a toltec wisdom book)', 58), ('the road to serfdom: text and documents--the definitive edition (the collected works of f. a. hayek, volume 2)', 48)]\n",
            "[('the wonderful things you will be', 100), ('where the wild things are', 60), ('lean in: women, work, and the will to lead', 48)]\n",
            "[('the wonky donkey', 100), ('journey to the ice p', 56), ('under the dome: a novel', 53)]\n",
            "[('the wright brothers', 100), ('new moon (the twilight saga)', 58), ('the book with no pictures', 55)]\n",
            "[('things that matter: three decades of passions, pastimes and politics [deckled edge]', 100), ('switch: how to change things when change is hard', 48), ('the plant paradox: the hidden dangers in \"healthy\" foods that cause disease and weight gain', 47)]\n",
            "[('thinking, fast and slow', 100), ('looking for alaska', 50), (\"the handmaid's tale\", 49)]\n",
            "[('thirteen reasons why', 100), ('the wright brothers', 51), ('where the crawdads sing', 51)]\n",
            "[('thomas jefferson: the art of power', 100), ('the confession: a novel', 51), ('the art of racing in the rain: a novel', 49)]\n",
            "[(\"three cups of tea: one man's mission to promote peace - one school at a time\", 100), ('teach like a champion: 49 techniques that put students on the path to college', 48), ('fantastic beasts and where to find them: the original screenplay (harry potter)', 46)]\n",
            "[('thug kitchen: the official cookbook: eat like you give a f*ck (thug kitchen cookbooks)', 100), ('cravings: recipes for all the food you want to eat: a cookbook', 51), ('the throne of fire (the kane chronicles, book 2)', 49)]\n",
            "[('tina fey: bossypants', 100), ('orphan train', 52), ('the silent patient', 43)]\n",
            "[('to kill a mockingbird', 100), ('a stolen life: a memoir', 51), ('mockingjay (the hunger games)', 50)]\n",
            "[('tools of titans: the tactics, routines, and habits of billionaires, icons, and world-class performers', 100), ('ship of fools: how a selfish ruling class is bringing america to the brink of revolution', 48), ('things that matter: three decades of passions, pastimes and politics [deckled edge]', 47)]\n",
            "[('towers of midnight (wheel of time, book thirteen)', 100), ('winter of the world: book two of the century trilogy', 54), ('the third wheel (diary of a wimpy kid, book 7)', 52)]\n",
            "[('true compass: a memoir', 100), ('a stolen life: a memoir', 60), ('educated: a memoir', 58)]\n",
            "[('twilight (the twilight saga, book 1)', 100), ('new moon (the twilight saga)', 68), ('the twilight saga collection', 66)]\n",
            "[('ultimate sticker book: frozen: more than 60 reusable full-color stickers', 100), ('calm the f*ck down: an irreverent adult coloring book (irreverent book series)', 46), ('the pioneer woman cooks: food from my frontier', 45)]\n",
            "[('unbroken: a world war ii story of survival, resilience, and redemption', 100), (\"quiet: the power of introverts in a world that can't stop talking\", 46), (\"killing patton: the strange death of world war ii's most audacious general (bill o'reilly's killing series)\", 44)]\n",
            "[('under the dome: a novel', 100), ('the confession: a novel', 64), ('doctor sleep: a novel', 62)]\n",
            "[('unfreedom of the press', 100), ('the paris wife: a novel', 55), ('under the dome: a novel', 50)]\n",
            "[('unicorn coloring book: for kids ages 4-8 (us edition) (silly bear coloring books)', 100), ('i am confident, brave & beautiful: a coloring book for girls', 56), ('adult coloring books: a coloring book for adults featuring mandalas and henna inspired flowers, animals, and paisley…', 53)]\n",
            "[('uninvited: living loved when you feel less than, left out, and lonely', 100), ('one thousand gifts: a dare to live fully right where you are', 54), ('wheat belly: lose the wheat, lose the weight, and find your path back to health', 48)]\n",
            "[('watchmen', 100), ('the getaway', 53), ('the alchemist', 48)]\n",
            "[('water for elephants: a novel', 100), ('go set a watchman: a novel', 58), ('the guardians: a novel', 58)]\n",
            "[('what happened', 100), ('the wright brothers', 44), ('what pet should i get? (classic seuss)', 42)]\n",
            "[('what if?: serious scientific answers to absurd hypothetical questions', 100), ('national geographic kids why?: over 1,111 answers to everything', 45), ('kitchen confidential updated edition: adventures in the culinary underbelly (p.s.)', 43)]\n",
            "[('what pet should i get? (classic seuss)', 100), ('what should danny do? (the power to choose series)', 54), ('strange planet (strange planet series)', 45)]\n",
            "[('what should danny do? (the power to choose series)', 100), ('what pet should i get? (classic seuss)', 56), ('switch: how to change things when change is hard', 55)]\n",
            "[(\"what to expect when you're expecting\", 100), ('uninvited: living loved when you feel less than, left out, and lonely', 47), ('cutting for stone', 45)]\n",
            "[('wheat belly: lose the wheat, lose the weight, and find your path back to health', 100), ('the plant paradox cookbook: 100 delicious recipes to help you lose weight, heal your gut, and live lectin-free', 56), ('the power of habit: why we do what we do in life and business', 54)]\n",
            "[('when breath becomes air', 100), (\"george washington's sacred fire\", 52), ('howard stern comes again', 51)]\n",
            "[('where the crawdads sing', 100), ('the day the crayons quit', 60), ('the very hungry caterpillar', 52)]\n",
            "[('where the wild things are', 100), ('the wonderful things you will be', 60), ('the third wheel (diary of a wimpy kid, book 7)', 53)]\n",
            "[(\"whose boat is this boat?: comments that don't help in the aftermath of a hurricane\", 100), ('harry potter and the chamber of secrets: the illustrated edition (harry potter, book 2)', 47), ('killers of the flower moon: the osage murders and the birth of the fbi', 47)]\n",
            "[('wild: from lost to found on the pacific crest trail', 100), ('the four agreements: a practical guide to personal freedom (a toltec wisdom book)', 56), ('the pioneer woman cooks: food from my frontier', 51)]\n",
            "[('winter of the world: book two of the century trilogy', 100), ('the throne of fire (the kane chronicles, book 2)', 52), ('the ugly truth (diary of a wimpy kid, book 5)', 52)]\n",
            "[('women food and god: an unexpected path to almost everything', 100), ('david and goliath: underdogs, misfits, and the art of battling giants', 47), (\"it's not supposed to be this way: finding unexpected strength when disappointments leave you shattered\", 47)]\n",
            "[('wonder', 100), ('inferno', 46), ('divergent', 40)]\n",
            "[('wrecking ball (diary of a wimpy kid book 14)', 100), ('diary of a wimpy kid: hard luck, book 8', 66), ('the meltdown (diary of a wimpy kid book 13)', 65)]\n",
            "[('you are a badass: how to stop doubting your greatness and start living an awesome life', 100), ('arguing with idiots: how to stop small minds and big government', 49), ('homebody: a guide to creating spaces you never want to leave', 46)]\n"
          ],
          "name": "stdout"
        }
      ]
    },
    {
      "cell_type": "code",
      "metadata": {
        "id": "XEAUepX1IB4c",
        "colab": {
          "base_uri": "https://localhost:8080/"
        },
        "outputId": "e4026e87-2c59-4c67-fe19-93e4de2b5c93"
      },
      "source": [
        "#build a list of the most 3 similar spellings with authors\n",
        "for value in authors:\n",
        "    print(process.extract(value, authors, limit=3, scorer=fuzz.token_sort_ratio))\n"
      ],
      "execution_count": 10,
      "outputs": [
        {
          "output_type": "stream",
          "text": [
            "[('abraham verghese', 100), ('deborah diesen', 53), ('george w. bush', 48)]\n",
            "[('adam gasiewski', 100), ('amy shields', 56), ('adam mansbach', 52)]\n",
            "[('adam mansbach', 100), ('adam gasiewski', 52), ('mitch albom', 50)]\n",
            "[('adir levy', 100), ('dav pilkey', 53), ('doug lemov', 53)]\n",
            "[('admiral william h. mcraven', 100), ('william davis', 58), ('emily winfield martin', 48)]\n",
            "[('adult coloring book designs', 100), ('coloring books for adults', 77), ('blue star coloring', 53)]\n",
            "[('alan moore', 100), ('eben alexander', 50), ('amor towles', 48)]\n",
            "[('alex michaelides', 100), ('michael lewis', 69), (\"madeleine l'engle\", 55)]\n",
            "[('alice schertle', 100), ('allie brosh', 56), ('elie wiesel', 56)]\n",
            "[('allie brosh', 100), ('rob elliott', 55), ('sarah palin', 55)]\n",
            "[('american psychiatric association', 100), ('american psychological association', 85), ('patrick lencioni', 50)]\n",
            "[('american psychological association', 100), ('american psychiatric association', 85), ('christina baker kline', 40)]\n",
            "[('amor towles', 100), ('mark owen', 60), ('delia owens', 55)]\n",
            "[('amy ramos', 100), ('dave ramsey', 60), ('allie brosh', 50)]\n",
            "[('amy shields', 100), ('adam gasiewski', 56), ('stephenie meyer', 54)]\n",
            "[('andy weir', 100), ('larry schweikart', 56), ('anthony doerr', 55)]\n",
            "[('angie grace', 100), ('dale carnegie', 67), ('angie thomas', 61)]\n",
            "[('angie thomas', 100), ('thomas piketty', 69), ('thomas campbell', 67)]\n",
            "[('ann voskamp', 100), ('daniel kahneman', 46), ('mark manson', 45)]\n",
            "[('ann whitford paul', 100), ('mary ann shaffer', 55), ('paula mclain', 48)]\n",
            "[('anthony bourdain', 100), ('anthony doerr', 69), ('hillary rodham clinton', 47)]\n",
            "[('anthony doerr', 100), ('anthony bourdain', 62), ('andy weir', 55)]\n",
            "[('atul gawande', 100), ('laurel randolph', 52), ('randy pausch', 50)]\n",
            "[('audrey niffenegger', 100), ('mary ann shaffer', 47), ('steve harvey', 47)]\n",
            "[('b. j. novak', 100), ('j. d. vance', 56), ('f. a. hayek', 44)]\n",
            "[('bessel van der kolk m.d.', 100), ('bill martin jr.', 43), ('brené brown', 41)]\n",
            "[('bill martin jr.', 100), ('bill simmons', 54), (\"bill o'reilly\", 52)]\n",
            "[(\"bill o'reilly\", 100), ('bill martin jr.', 59), ('silly bear', 52)]\n",
            "[('bill simmons', 100), ('jill twiss', 55), ('bill martin jr.', 54)]\n",
            "[('blue star coloring', 100), ('bruce springsteen', 57), ('coloring books for adults', 56)]\n",
            "[('bob woodward', 100), ('todd burpo', 55), ('dan brown', 48)]\n",
            "[('brandon stanton', 100), ('sandra boynton', 55), ('donna tartt', 54)]\n",
            "[('brené brown', 100), ('john green', 57), ('geneen roth', 55)]\n",
            "[('brian kilmeade', 100), ('chris cleave', 54), ('raina telgemeier', 53)]\n",
            "[('bruce springsteen', 100), ('blue star coloring', 57), ('stephen king', 55)]\n",
            "[('carol s. dweck', 100), ('eric carle', 61), ('tucker carlson', 52)]\n",
            "[('celeste ng', 100), ('charles duhigg', 50), ('cheryl strayed', 50)]\n",
            "[('charlaine harris', 100), ('eric carle', 62), ('ernest cline', 57)]\n",
            "[('charles duhigg', 100), ('charles krauthammer', 61), ('eric carle', 58)]\n",
            "[('charles krauthammer', 100), ('charles duhigg', 61), ('charlaine harris', 57)]\n",
            "[('cheryl strayed', 100), ('steve harvey', 54), ('jay asher', 52)]\n",
            "[('chip gaines', 100), ('chip heath', 57), ('christopher paolini', 53)]\n",
            "[('chip heath', 100), ('chip gaines', 57), ('chris cleave', 55)]\n",
            "[('chris cleave', 100), ('chris kyle', 73), ('chrissy teigen', 62)]\n",
            "[('chris kyle', 100), ('chris cleave', 73), ('chrissy teigen', 58)]\n",
            "[('chrissy teigen', 100), ('chris cleave', 62), ('chris kyle', 58)]\n",
            "[('christina baker kline', 100), ('crispin boyer', 59), ('chris kyle', 58)]\n",
            "[('christopher paolini', 100), ('chrissy teigen', 55), ('chip gaines', 53)]\n",
            "[('coloring books for adults', 100), ('adult coloring book designs', 77), ('blue star coloring', 56)]\n",
            "[('craig smith', 100), ('jj smith', 63), ('jennifer smith', 56)]\n",
            "[('crispin boyer', 100), ('christina baker kline', 59), ('eric larson', 50)]\n",
            "[('dale carnegie', 100), ('angie grace', 67), ('angie thomas', 56)]\n",
            "[('dan brown', 100), ('daniel james brown', 67), ('brandon stanton', 58)]\n",
            "[('daniel h. pink', 100), ('daniel kahneman', 64), ('daniel lipkowitz', 62)]\n",
            "[('daniel james brown', 100), ('dan brown', 67), ('james dashner', 65)]\n",
            "[('daniel kahneman', 100), ('angie thomas', 59), ('daniel h. pink', 57)]\n",
            "[('daniel lipkowitz', 100), ('daniel h. pink', 62), ('daniel kahneman', 52)]\n",
            "[('dav pilkey', 100), ('dave ramsey', 57), ('david platt', 57)]\n",
            "[('dave ramsey', 100), ('amy ramos', 60), ('james dashner', 58)]\n",
            "[('david goggins', 100), ('david grann', 67), ('david zinczenko', 57)]\n",
            "[('david grann', 100), ('david goggins', 67), ('david platt', 64)]\n",
            "[('david mccullough', 100), ('david goggins', 55), ('david grann', 52)]\n",
            "[('david perlmutter md', 100), ('david platt', 67), ('david mccullough', 51)]\n",
            "[('david platt', 100), ('david perlmutter md', 67), ('david grann', 64)]\n",
            "[('david zinczenko', 100), ('david grann', 62), ('david goggins', 57)]\n",
            "[('deborah diesen', 100), ('abraham verghese', 53), ('crispin boyer', 52)]\n",
            "[('delegates of the constitutional\\x85', 100), ('the college board', 46), ('raina telgemeier', 38)]\n",
            "[('delia owens', 100), ('elie wiesel', 64), ('mark owen', 60)]\n",
            "[('dinah bucholz', 100), ('blue star coloring', 52), ('julia child', 50)]\n",
            "[('dk', 100), ('dav pilkey', 33), ('edward klein', 29)]\n",
            "[('don miguel ruiz', 100), ('daniel lipkowitz', 52), ('daniel h. pink', 50)]\n",
            "[('donna tartt', 100), ('jon stewart', 64), ('tatiana de rosnay', 57)]\n",
            "[('doug lemov', 100), ('adir levy', 53), ('jaycee dugard', 43)]\n",
            "[('dr. seuss', 100), ('adir levy', 47), ('adam gasiewski', 45)]\n",
            "[('dr. steven r gundry md', 100), ('ree drummond', 55), ('stephen r. covey', 50)]\n",
            "[('drew daywalt', 100), ('alan moore', 45), ('walter isaacson', 44)]\n",
            "[('e l james', 100), ('james comey', 70), ('james dashner', 64)]\n",
            "[('eben alexander', 100), ('deborah diesen', 50), ('harper lee', 50)]\n",
            "[('edward klein', 100), ('edward m. kennedy', 71), ('howard stern', 58)]\n",
            "[('edward m. kennedy', 100), ('edward klein', 71), ('jeff kinney', 52)]\n",
            "[('elie wiesel', 100), ('ernest cline', 52), ('e l james', 50)]\n",
            "[('elizabeth strout', 100), ('rob elliott', 52), ('kathryn stockett', 50)]\n",
            "[('emily winfield martin', 100), ('bill martin jr.', 51), ('admiral william h. mcraven', 48)]\n",
            "[('eric carle', 100), ('charlaine harris', 62), ('charles duhigg', 58)]\n",
            "[('eric larson', 100), ('keith richards', 56), ('ron chernow', 55)]\n",
            "[('ernest cline', 100), ('charlaine harris', 57), ('eric carle', 55)]\n",
            "[('f. a. hayek', 100), ('gayle forman', 48), ('mary ann shaffer', 48)]\n",
            "[('f. scott fitzgerald', 100), ('amy shields', 41), ('kathryn stockett', 41)]\n",
            "[('francis chan', 100), ('charlaine harris', 57), ('kristin hannah', 54)]\n",
            "[('fredrik backman', 100), ('francis chan', 52), ('alan moore', 48)]\n",
            "[('gallup', 100), ('rupi kaur', 40), ('laurel randolph', 38)]\n",
            "[('garth stein', 100), ('ina garten', 67), ('howard stern', 61)]\n",
            "[('gary chapman', 100), ('gayle forman', 58), ('charlaine harris', 57)]\n",
            "[('gayle forman', 100), ('gary chapman', 58), ('angie grace', 52)]\n",
            "[('geneen roth', 100), ('john green', 67), ('brené brown', 55)]\n",
            "[('george orwell', 100), ('george w. bush', 62), ('george r. r. martin', 53)]\n",
            "[('george r. r. martin', 100), ('george r.r. martin', 100), ('george orwell', 53)]\n",
            "[('george r. r. martin', 100), ('george r.r. martin', 100), ('george orwell', 53)]\n",
            "[('george w. bush', 100), ('george orwell', 62), ('abraham verghese', 48)]\n",
            "[('giles andreae', 100), ('adam gasiewski', 59), ('adir levy', 55)]\n",
            "[('gillian flynn', 100), ('william p. young', 50), ('hillary rodham clinton', 46)]\n",
            "[('glenn beck', 100), ('golden books', 64), ('eric larson', 48)]\n",
            "[('golden books', 100), ('glenn beck', 64), ('adult coloring book designs', 51)]\n",
            "[('greg mortenson', 100), ('mike moreno', 64), ('john green', 58)]\n",
            "[('harper lee', 100), ('steve harvey', 64), ('chris cleave', 55)]\n",
            "[('heidi murkoff', 100), ('mark r. levin', 48), ('michael wolff', 46)]\n",
            "[('hillary rodham clinton', 100), ('charlaine harris', 47), ('mark r. levin', 47)]\n",
            "[('hopscotch girls', 100), ('f. scott fitzgerald', 48), ('angie thomas', 44)]\n",
            "[('howard stern', 100), ('garth stein', 61), ('edward klein', 58)]\n",
            "[('ian k. smith m.d.', 100), ('craig smith', 54), ('mitch albom', 54)]\n",
            "[('ina garten', 100), ('garth stein', 67), ('john green', 60)]\n",
            "[('j. d. vance', 100), ('b. j. novak', 56), ('jaycee dugard', 55)]\n",
            "[('j. k. rowling', 100), ('j.k. rowling', 100), ('mark owen', 50)]\n",
            "[('j. k. rowling', 100), ('j.k. rowling', 100), ('mark owen', 50)]\n",
            "[('james comey', 100), ('e l james', 70), ('amy ramos', 60)]\n",
            "[('james dashner', 100), ('jay asher', 73), ('daniel james brown', 65)]\n",
            "[('james patterson', 100), ('jordan b. peterson', 62), ('e l james', 50)]\n",
            "[('jay asher', 100), ('james dashner', 73), ('randy pausch', 57)]\n",
            "[('jaycee dugard', 100), ('j. d. vance', 55), ('jay asher', 55)]\n",
            "[('jeff kinney', 100), ('jen sincero', 55), ('edward m. kennedy', 52)]\n",
            "[('jen sincero', 100), ('jeff kinney', 55), ('jon stewart', 55)]\n",
            "[('jennifer smith', 100), ('jj smith', 64), ('craig smith', 56)]\n",
            "[('jill twiss', 100), ('bill simmons', 55), ('bill martin jr.', 50)]\n",
            "[('jim collins', 100), ('suzanne collins', 62), ('rachel hollis', 50)]\n",
            "[('jj smith', 100), ('jennifer smith', 64), ('craig smith', 63)]\n",
            "[('joanna gaines', 100), ('johanna basford', 64), ('jonathan cahn', 54)]\n",
            "[('joel fuhrman md', 100), ('gayle forman', 52), ('john heilemann', 48)]\n",
            "[('johanna basford', 100), ('joanna gaines', 64), ('jay asher', 50)]\n",
            "[('john green', 100), ('geneen roth', 67), ('john heilemann', 67)]\n",
            "[('john grisham', 100), ('john green', 64), ('joanna gaines', 56)]\n",
            "[('john heilemann', 100), ('john green', 67), ('john grisham', 54)]\n",
            "[('jon meacham', 100), ('jon stewart', 55), ('jonathan cahn', 50)]\n",
            "[('jon stewart', 100), ('donna tartt', 64), ('robert jordan', 58)]\n",
            "[('jonathan cahn', 100), ('joanna gaines', 54), ('chip heath', 52)]\n",
            "[('jordan b. peterson', 100), ('james patterson', 62), ('robert jordan', 60)]\n",
            "[('julia child', 100), ('paula mclain', 52), ('laura hillenbrand', 50)]\n",
            "[('justin halpern', 100), ('stieg larsson', 52), ('charles duhigg', 50)]\n",
            "[('kathryn stockett', 100), ('tucker carlson', 53), ('garth stein', 52)]\n",
            "[('keith richards', 100), ('eric larson', 56), ('alex michaelides', 53)]\n",
            "[('ken follett', 100), ('steven d. levitt', 54), ('celeste ng', 48)]\n",
            "[('kevin kwan', 100), ('mark r. levin', 55), ('susan cain', 50)]\n",
            "[('khaled hosseini', 100), ('chris kyle', 48), ('kevin kwan', 48)]\n",
            "[('kristin hannah', 100), ('justin halpern', 57), ('garth stein', 56)]\n",
            "[('larry schweikart', 100), ('andy weir', 56), ('alice schertle', 53)]\n",
            "[('laura hillenbrand', 100), ('julia child', 50), ('ray bradbury', 48)]\n",
            "[('laurel randolph', 100), ('randall munroe', 62), ('lin-manuel miranda', 61)]\n",
            "[('lin-manuel miranda', 100), ('laurel randolph', 61), ('mark r. levin', 53)]\n",
            "[('lysa terkeurst', 100), ('ernest cline', 54), ('justin halpern', 43)]\n",
            "[('m prefontaine', 100), ('tatiana de rosnay', 53), ('mark twain', 52)]\n",
            "[(\"madeleine l'engle\", 100), ('malcolm gladwell', 48), ('george r. r. martin', 47)]\n",
            "[('malcolm gladwell', 100), ('laurel randolph', 52), (\"madeleine l'engle\", 48)]\n",
            "[('margaret atwood', 100), ('margaret wise brown', 59), ('marie kondō', 54)]\n",
            "[('margaret wise brown', 100), ('margaret atwood', 59), ('dan brown', 50)]\n",
            "[('marie kondō', 100), ('mark manson', 55), ('margaret atwood', 54)]\n",
            "[('marjorie sarnat', 100), ('sara gruen', 56), ('maurice sendak', 55)]\n",
            "[('mark hyman m.d.', 100), ('mark manson', 64), ('ian k. smith m.d.', 55)]\n",
            "[('mark manson', 100), ('mark hyman m.d.', 64), ('marie kondō', 55)]\n",
            "[('mark owen', 100), ('mark twain', 74), ('amor towles', 60)]\n",
            "[('mark r. levin', 100), ('patrick lencioni', 57), ('kevin kwan', 55)]\n",
            "[('mark twain', 100), ('mark owen', 74), ('garth stein', 57)]\n",
            "[('markus zusak', 100), ('mark twain', 55), ('mark owen', 48)]\n",
            "[('marty noble', 100), ('amor towles', 55), ('adir levy', 50)]\n",
            "[('mary ann shaffer', 100), ('amy shields', 52), ('mark manson', 52)]\n",
            "[('maurice sendak', 100), ('marjorie sarnat', 62), ('randall munroe', 57)]\n",
            "[('melissa hartwig urban', 100), ('lin-manuel miranda', 46), ('susan cain', 45)]\n",
            "[('michael lewis', 100), ('alex michaelides', 69), ('rachel hollis', 62)]\n",
            "[('michael pollan', 100), ('michael wolff', 74), ('michelle obama', 64)]\n",
            "[('michael wolff', 100), ('michael pollan', 74), ('michelle obama', 59)]\n",
            "[('michelle obama', 100), ('michael pollan', 57), ('rob bell', 55)]\n",
            "[('mike moreno', 100), ('greg mortenson', 64), ('mark owen', 60)]\n",
            "[('mitch albom', 100), ('craig smith', 55), ('ian k. smith m.d.', 54)]\n",
            "[('muriel barbery', 100), ('ray bradbury', 54), ('harper lee', 50)]\n",
            "[('naomi kleinberg', 100), ('jennifer smith', 48), ('kevin kwan', 48)]\n",
            "[('nathan w. pyle', 100), ('gayle forman', 48), ('ann whitford paul', 47)]\n",
            "[('national geographic kids', 100), ('kristin hannah', 47), ('neil degrasse tyson', 47)]\n",
            "[('neil degrasse tyson', 100), ('giles andreae', 50), ('greg mortenson', 48)]\n",
            "[('paper peony press', 100), ('harper lee', 52), (\"sasha o'hara\", 48)]\n",
            "[('patrick lencioni', 100), ('american psychiatric association', 54), ('mark manson', 52)]\n",
            "[('patrick thorpe', 100), ('rick riordan', 54), ('stephen kendrick', 53)]\n",
            "[('paul kalanithi', 100), ('paula mclain', 62), ('paulo coelho', 54)]\n",
            "[('paula hawkins', 100), ('paula mclain', 72), ('joanna gaines', 54)]\n",
            "[('paula mclain', 100), ('paula hawkins', 72), ('paul kalanithi', 62)]\n",
            "[('paulo coelho', 100), ('paula mclain', 58), ('paul kalanithi', 54)]\n",
            "[('pete souza', 100), ('elizabeth strout', 46), ('wizards rpg team', 46)]\n",
            "[('peter a. lillback', 100), ('alice schertle', 47), ('patrick thorpe', 47)]\n",
            "[('phil robertson', 100), ('robert munsch', 59), ('roger priddy', 54)]\n",
            "[('pierre dukan', 100), ('dav pilkey', 55), ('angie grace', 52)]\n",
            "[('pretty simple press', 100), ('m prefontaine', 44), ('stieg larsson', 44)]\n",
            "[('r. j. palacio', 100), ('ann whitford paul', 50), ('alan moore', 48)]\n",
            "[('rachel hollis', 100), ('michael lewis', 62), ('suzanne collins', 57)]\n",
            "[('raina telgemeier', 100), ('andy weir', 48), ('brian kilmeade', 47)]\n",
            "[('randall munroe', 100), ('laurel randolph', 62), ('maurice sendak', 57)]\n",
            "[('randy pausch', 100), ('jay asher', 57), ('laurel randolph', 52)]\n",
            "[('ray bradbury', 100), ('muriel barbery', 54), ('randy pausch', 50)]\n",
            "[('rebecca skloot', 100), ('silly bear', 50), ('elizabeth strout', 47)]\n",
            "[('ree drummond', 100), ('dr. steven r gundry md', 55), ('marie kondō', 52)]\n",
            "[('rh disney', 100), ('geneen roth', 50), ('ernest cline', 48)]\n",
            "[('rick riordan', 100), ('eric larson', 61), ('patrick thorpe', 54)]\n",
            "[('rob bell', 100), ('rob elliott', 74), ('rod campbell', 70)]\n",
            "[('rob elliott', 100), ('rob bell', 74), ('allie brosh', 55)]\n",
            "[('robert jordan', 100), ('robert munsch', 62), ('jordan b. peterson', 60)]\n",
            "[('robert munsch', 100), ('robert jordan', 62), ('phil robertson', 59)]\n",
            "[('rod campbell', 100), ('thomas campbell', 74), ('rob bell', 70)]\n",
            "[('roger priddy', 100), ('robert jordan', 56), ('phil robertson', 54)]\n",
            "[('ron chernow', 100), ('eric larson', 55), ('school zone', 55)]\n",
            "[('rupi kaur', 100), ('eric carle', 53), ('laurel randolph', 50)]\n",
            "[('rush limbaugh', 100), ('allie brosh', 50), ('elizabeth strout', 48)]\n",
            "[('samin nosrat', 100), ('craig smith', 52), ('garth stein', 52)]\n",
            "[('sandra boynton', 100), ('anthony doerr', 52), ('dan brown', 52)]\n",
            "[('sara gruen', 100), ('ina garten', 60), ('sarah palin', 57)]\n",
            "[('sarah palin', 100), ('sara gruen', 57), ('susan cain', 57)]\n",
            "[('sarah young', 100), ('william p. young', 54), ('mark owen', 50)]\n",
            "[(\"sasha o'hara\", 100), ('marjorie sarnat', 52), ('charlaine harris', 50)]\n",
            "[('scholastic', 100), ('jim collins', 48), ('school zone', 48)]\n",
            "[('school zone', 100), ('ron chernow', 55), ('suzanne collins', 54)]\n",
            "[('sherri duskey rinker', 100), ('stephenie meyer', 51), ('charlaine harris', 50)]\n",
            "[('sheryl sandberg', 100), ('alice schertle', 55), ('mary ann shaffer', 52)]\n",
            "[('silly bear', 100), ('adir levy', 53), (\"bill o'reilly\", 52)]\n",
            "[('stephen kendrick', 100), ('stephen king', 71), ('stephen r. covey', 65)]\n",
            "[('stephen king', 100), ('stephen kendrick', 71), ('stephen r. covey', 59)]\n",
            "[('stephen r. covey', 100), ('stephenie meyer', 73), ('stephen king', 59)]\n",
            "[('stephenie meyer', 100), ('stephen r. covey', 73), ('stephen kendrick', 65)]\n",
            "[('steve harvey', 100), ('harper lee', 64), ('stephen r. covey', 59)]\n",
            "[('steven d. levitt', 100), ('ken follett', 54), ('stephen kendrick', 52)]\n",
            "[('stieg larsson', 100), ('tucker carlson', 59), ('justin halpern', 52)]\n",
            "[('susan cain', 100), ('paula mclain', 64), ('suzanne collins', 64)]\n",
            "[('suzanne collins', 100), ('susan cain', 64), ('jim collins', 62)]\n",
            "[('ta-nehisi coates', 100), ('dale carnegie', 48), ('charles duhigg', 47)]\n",
            "[('tara westover', 100), ('howard stern', 56), ('steve harvey', 56)]\n",
            "[('tatiana de rosnay', 100), ('donna tartt', 57), ('tina fey', 56)]\n",
            "[('the college board', 100), ('david mccullough', 48), ('jaycee dugard', 47)]\n",
            "[('the staff of the late show with\\x85', 100), ('the washington post', 44), ('w. cleon skousen', 43)]\n",
            "[('the washington post', 100), ('brandon stanton', 47), ('jon stewart', 47)]\n",
            "[('thomas campbell', 100), ('rod campbell', 74), ('angie thomas', 67)]\n",
            "[('thomas piketty', 100), ('angie thomas', 69), ('thomas campbell', 62)]\n",
            "[('thug kitchen', 100), ('stephen king', 50), ('jonathan cahn', 48)]\n",
            "[('timothy ferriss', 100), ('chrissy teigen', 48), ('craig smith', 46)]\n",
            "[('tina fey', 100), ('ina garten', 56), ('tatiana de rosnay', 56)]\n",
            "[('todd burpo', 100), ('bob woodward', 55), ('dan brown', 53)]\n",
            "[('tony hsieh', 100), ('mike moreno', 48), ('ron chernow', 48)]\n",
            "[('tucker carlson', 100), ('stieg larsson', 59), ('eric carle', 58)]\n",
            "[('veronica roth', 100), ('eric carle', 52), ('keith richards', 52)]\n",
            "[('w. cleon skousen', 100), ('susan cain', 56), ('justin halpern', 48)]\n",
            "[('walter isaacson', 100), ('tucker carlson', 55), ('mark manson', 54)]\n",
            "[('william davis', 100), ('admiral william h. mcraven', 58), ('david platt', 58)]\n",
            "[('william p. young', 100), ('william davis', 57), ('sarah young', 54)]\n",
            "[('wizards rpg team', 100), ('pete souza', 46), ('amy shields', 44)]\n",
            "[('zhi gang sha', 100), ('john grisham', 50), ('ann whitford paul', 48)]\n"
          ],
          "name": "stdout"
        }
      ]
    },
    {
      "cell_type": "markdown",
      "metadata": {
        "id": "AkjjtIaaHBUY"
      },
      "source": [
        "There are additional spaces in these two authors name (r. r. martin, and j. k. rowling)."
      ]
    },
    {
      "cell_type": "code",
      "metadata": {
        "id": "yocmWhSWcGF2"
      },
      "source": [
        "#replace george r. r. martin with george r.r. martin and j. k. rowling with j.k. rowling\n",
        "dataset.Author_lowerC = dataset.Author_lowerC.replace('george r. r. martin', 'george r.r. martin')\n",
        "dataset.Author_lowerC = dataset.Author_lowerC.replace('j. k. rowling', 'j.k. rowling')\n",
        "      "
      ],
      "execution_count": 11,
      "outputs": []
    },
    {
      "cell_type": "markdown",
      "metadata": {
        "id": "I7PmMF9nAuI9"
      },
      "source": [
        "*   Check for duplicate rows in dataset."
      ]
    },
    {
      "cell_type": "code",
      "metadata": {
        "colab": {
          "base_uri": "https://localhost:8080/"
        },
        "id": "9fEE_7Lo63s5",
        "outputId": "7c8d9f9d-9814-47a0-bc24-42611c1b44ef"
      },
      "source": [
        "dataset.duplicated().any()"
      ],
      "execution_count": 12,
      "outputs": [
        {
          "output_type": "execute_result",
          "data": {
            "text/plain": [
              "False"
            ]
          },
          "metadata": {
            "tags": []
          },
          "execution_count": 12
        }
      ]
    },
    {
      "cell_type": "markdown",
      "metadata": {
        "id": "JQRTqPUp8bpj"
      },
      "source": [
        "*   Find No. of unique values in each column"
      ]
    },
    {
      "cell_type": "code",
      "metadata": {
        "colab": {
          "base_uri": "https://localhost:8080/"
        },
        "id": "brJFp2pbwEpf",
        "outputId": "50b4f09c-4ce4-4f34-c6a3-6b47ddc3ce51"
      },
      "source": [
        "for col in dataset.columns:\n",
        "    count_unique = dataset[col].nunique()\n",
        "    print(col,':', count_unique)"
      ],
      "execution_count": 13,
      "outputs": [
        {
          "output_type": "stream",
          "text": [
            "Name : 351\n",
            "Author : 248\n",
            "User Rating : 14\n",
            "Reviews : 346\n",
            "Price : 40\n",
            "Year : 11\n",
            "Genre : 2\n",
            "Name_lowerC : 350\n",
            "Author_lowerC : 246\n"
          ],
          "name": "stdout"
        }
      ]
    },
    {
      "cell_type": "markdown",
      "metadata": {
        "id": "T1UzF3CX4Rgg"
      },
      "source": [
        "*   Find No. of Nones for each column to check the missing values in dataset."
      ]
    },
    {
      "cell_type": "code",
      "metadata": {
        "colab": {
          "base_uri": "https://localhost:8080/"
        },
        "id": "VGX9ytWcyTj7",
        "outputId": "c01a7c4e-489f-41e5-d63c-8c1dcf54718d"
      },
      "source": [
        "for col in dataset.columns:\n",
        "    count_missing = dataset[col].isnull().sum()\n",
        "    print(col,':', count_missing)"
      ],
      "execution_count": 14,
      "outputs": [
        {
          "output_type": "stream",
          "text": [
            "Name : 0\n",
            "Author : 0\n",
            "User Rating : 0\n",
            "Reviews : 0\n",
            "Price : 0\n",
            "Year : 0\n",
            "Genre : 0\n",
            "Name_lowerC : 0\n",
            "Author_lowerC : 0\n"
          ],
          "name": "stdout"
        }
      ]
    },
    {
      "cell_type": "markdown",
      "metadata": {
        "id": "cDPTqeQ54-lX"
      },
      "source": [
        "3- **Describe The Dataset**\n",
        "*   Describe all numerical columns."
      ]
    },
    {
      "cell_type": "code",
      "metadata": {
        "colab": {
          "base_uri": "https://localhost:8080/",
          "height": 297
        },
        "id": "DkFLIJ07snQB",
        "outputId": "b420a0cd-254e-4ccb-a3c4-d022ead747a8"
      },
      "source": [
        "dataset.describe()"
      ],
      "execution_count": 15,
      "outputs": [
        {
          "output_type": "execute_result",
          "data": {
            "text/html": [
              "<div>\n",
              "<style scoped>\n",
              "    .dataframe tbody tr th:only-of-type {\n",
              "        vertical-align: middle;\n",
              "    }\n",
              "\n",
              "    .dataframe tbody tr th {\n",
              "        vertical-align: top;\n",
              "    }\n",
              "\n",
              "    .dataframe thead th {\n",
              "        text-align: right;\n",
              "    }\n",
              "</style>\n",
              "<table border=\"1\" class=\"dataframe\">\n",
              "  <thead>\n",
              "    <tr style=\"text-align: right;\">\n",
              "      <th></th>\n",
              "      <th>User Rating</th>\n",
              "      <th>Reviews</th>\n",
              "      <th>Price</th>\n",
              "      <th>Year</th>\n",
              "    </tr>\n",
              "  </thead>\n",
              "  <tbody>\n",
              "    <tr>\n",
              "      <th>count</th>\n",
              "      <td>550.000000</td>\n",
              "      <td>550.000000</td>\n",
              "      <td>550.000000</td>\n",
              "      <td>550.000000</td>\n",
              "    </tr>\n",
              "    <tr>\n",
              "      <th>mean</th>\n",
              "      <td>4.618364</td>\n",
              "      <td>11953.281818</td>\n",
              "      <td>13.100000</td>\n",
              "      <td>2014.000000</td>\n",
              "    </tr>\n",
              "    <tr>\n",
              "      <th>std</th>\n",
              "      <td>0.226980</td>\n",
              "      <td>11731.132017</td>\n",
              "      <td>10.842262</td>\n",
              "      <td>3.165156</td>\n",
              "    </tr>\n",
              "    <tr>\n",
              "      <th>min</th>\n",
              "      <td>3.300000</td>\n",
              "      <td>37.000000</td>\n",
              "      <td>0.000000</td>\n",
              "      <td>2009.000000</td>\n",
              "    </tr>\n",
              "    <tr>\n",
              "      <th>25%</th>\n",
              "      <td>4.500000</td>\n",
              "      <td>4058.000000</td>\n",
              "      <td>7.000000</td>\n",
              "      <td>2011.000000</td>\n",
              "    </tr>\n",
              "    <tr>\n",
              "      <th>50%</th>\n",
              "      <td>4.700000</td>\n",
              "      <td>8580.000000</td>\n",
              "      <td>11.000000</td>\n",
              "      <td>2014.000000</td>\n",
              "    </tr>\n",
              "    <tr>\n",
              "      <th>75%</th>\n",
              "      <td>4.800000</td>\n",
              "      <td>17253.250000</td>\n",
              "      <td>16.000000</td>\n",
              "      <td>2017.000000</td>\n",
              "    </tr>\n",
              "    <tr>\n",
              "      <th>max</th>\n",
              "      <td>4.900000</td>\n",
              "      <td>87841.000000</td>\n",
              "      <td>105.000000</td>\n",
              "      <td>2019.000000</td>\n",
              "    </tr>\n",
              "  </tbody>\n",
              "</table>\n",
              "</div>"
            ],
            "text/plain": [
              "       User Rating       Reviews       Price         Year\n",
              "count   550.000000    550.000000  550.000000   550.000000\n",
              "mean      4.618364  11953.281818   13.100000  2014.000000\n",
              "std       0.226980  11731.132017   10.842262     3.165156\n",
              "min       3.300000     37.000000    0.000000  2009.000000\n",
              "25%       4.500000   4058.000000    7.000000  2011.000000\n",
              "50%       4.700000   8580.000000   11.000000  2014.000000\n",
              "75%       4.800000  17253.250000   16.000000  2017.000000\n",
              "max       4.900000  87841.000000  105.000000  2019.000000"
            ]
          },
          "metadata": {
            "tags": []
          },
          "execution_count": 15
        }
      ]
    },
    {
      "cell_type": "markdown",
      "metadata": {
        "id": "Yu-rmWnlLR7Z"
      },
      "source": [
        "*   Find mode for each column. "
      ]
    },
    {
      "cell_type": "code",
      "metadata": {
        "colab": {
          "base_uri": "https://localhost:8080/"
        },
        "id": "jgPjtqX1IJNY",
        "outputId": "adf75905-3cea-4717-f971-888ae0c6bfeb"
      },
      "source": [
        "for col in dataset.columns:\n",
        "    mode = dataset[col].mode()\n",
        "    print(col,':', mode)"
      ],
      "execution_count": 16,
      "outputs": [
        {
          "output_type": "stream",
          "text": [
            "Name : 0    Publication Manual of the American Psychologic...\n",
            "dtype: object\n",
            "Author : 0    Jeff Kinney\n",
            "dtype: object\n",
            "User Rating : 0    4.8\n",
            "dtype: float64\n",
            "Reviews : 0    8580\n",
            "dtype: int64\n",
            "Price : 0    8\n",
            "dtype: int64\n",
            "Year : 0     2009\n",
            "1     2010\n",
            "2     2011\n",
            "3     2012\n",
            "4     2013\n",
            "5     2014\n",
            "6     2015\n",
            "7     2016\n",
            "8     2017\n",
            "9     2018\n",
            "10    2019\n",
            "dtype: int64\n",
            "Genre : 0    Non Fiction\n",
            "Name: Genre, dtype: category\n",
            "Categories (2, object): ['Fiction', 'Non Fiction']\n",
            "Name_lowerC : 0    publication manual of the american psychologic...\n",
            "1    the 5 love languages: the secret to love that ...\n",
            "dtype: object\n",
            "Author_lowerC : 0    jeff kinney\n",
            "dtype: object\n"
          ],
          "name": "stdout"
        }
      ]
    },
    {
      "cell_type": "markdown",
      "metadata": {
        "id": "ab5KY2aIsm3y"
      },
      "source": [
        "*   Find skewness and kurtosis measures for numerical columns."
      ]
    },
    {
      "cell_type": "code",
      "metadata": {
        "colab": {
          "base_uri": "https://localhost:8080/"
        },
        "id": "anPnEFvtJwbe",
        "outputId": "c961efa7-a9ae-4bd8-8093-0d991ef9da01"
      },
      "source": [
        "from scipy.stats import kurtosis, skew\n",
        "for col in dataset.columns:\n",
        "  if(pd.api.types.is_numeric_dtype(dataset[col])):\n",
        "    kurtosis_value = dataset[col].kurt()\n",
        "    skew_value = dataset[col].skew()\n",
        "    print(col,': skew=', skew_value,', kurtosis=', kurtosis_value)\n",
        "    "
      ],
      "execution_count": 17,
      "outputs": [
        {
          "output_type": "stream",
          "text": [
            "User Rating : skew= -1.502125498034903 , kurtosis= 3.4653751477506565\n",
            "Reviews : skew= 2.4215968315268785 , kurtosis= 8.809312639891214\n",
            "Price : skew= 3.685056537836339 , kurtosis= 22.43352032785043\n",
            "Year : skew= 0.0 , kurtosis= -1.220175009007326\n"
          ],
          "name": "stdout"
        }
      ]
    },
    {
      "cell_type": "markdown",
      "metadata": {
        "id": "fMQ0-Zx43pwc"
      },
      "source": [
        "*   Find correlation between variables (columns)."
      ]
    },
    {
      "cell_type": "code",
      "metadata": {
        "colab": {
          "base_uri": "https://localhost:8080/",
          "height": 371
        },
        "id": "JnX9Onypslm1",
        "outputId": "bb52006e-be67-4e6a-9fb5-046f974339fc"
      },
      "source": [
        "print(dataset.corr())\n",
        "print('=========================================================')\n",
        "import seaborn as sns\n",
        "sns.heatmap(dataset.corr(), annot=True);"
      ],
      "execution_count": 18,
      "outputs": [
        {
          "output_type": "stream",
          "text": [
            "             User Rating   Reviews     Price      Year\n",
            "User Rating     1.000000 -0.001729 -0.133086  0.242383\n",
            "Reviews        -0.001729  1.000000 -0.109182  0.263560\n",
            "Price          -0.133086 -0.109182  1.000000 -0.153979\n",
            "Year            0.242383  0.263560 -0.153979  1.000000\n",
            "=========================================================\n"
          ],
          "name": "stdout"
        },
        {
          "output_type": "display_data",
          "data": {
            "image/png": "[encoded data removed]",
            "text/plain": [
              "<Figure size 432x288 with 2 Axes>"
            ]
          },
          "metadata": {
            "tags": [],
            "needs_background": "light"
          }
        }
      ]
    },
    {
      "cell_type": "markdown",
      "metadata": {
        "id": "M8_KfpwI6iKE"
      },
      "source": [
        "*   Plot correlation between Year and User Rating."
      ]
    },
    {
      "cell_type": "code",
      "metadata": {
        "colab": {
          "base_uri": "https://localhost:8080/",
          "height": 312
        },
        "id": "rQcii7Uh5Jc3",
        "outputId": "b07d4108-0544-4c0b-8e0b-ea0ff5ebbf26"
      },
      "source": [
        "import matplotlib.pyplot as plt\n",
        "import numpy as np\n",
        "# adds the title\n",
        "plt.title('Correlation')\n",
        "  \n",
        "# plot the data\n",
        "plt.scatter(dataset['Year'], dataset['User Rating'])\n",
        "  \n",
        "# fits the best fitting line to the data\n",
        "plt.plot(np.unique(dataset['Year']), \n",
        "         np.poly1d(np.polyfit(dataset['Year'], dataset['User Rating'], 1))\n",
        "         (np.unique(dataset['Year'])), color='red')\n",
        "  \n",
        "# Labelling axes\n",
        "plt.xlabel('Year')\n",
        "plt.ylabel('User Rating')"
      ],
      "execution_count": 19,
      "outputs": [
        {
          "output_type": "execute_result",
          "data": {
            "text/plain": [
              "Text(0, 0.5, 'User Rating')"
            ]
          },
          "metadata": {
            "tags": []
          },
          "execution_count": 19
        },
        {
          "output_type": "display_data",
          "data": {
            "image/png": "[encoded data removed]",
            "text/plain": [
              "<Figure size 432x288 with 1 Axes>"
            ]
          },
          "metadata": {
            "tags": [],
            "needs_background": "light"
          }
        }
      ]
    },
    {
      "cell_type": "markdown",
      "metadata": {
        "id": "BR-wVwlO6w7X"
      },
      "source": [
        "*   Plot correlation between Year and Reviews."
      ]
    },
    {
      "cell_type": "code",
      "metadata": {
        "colab": {
          "base_uri": "https://localhost:8080/",
          "height": 312
        },
        "id": "L5573hYW6Ic1",
        "outputId": "181939f0-87f7-46c8-c179-0e1bf96372af"
      },
      "source": [
        "# adds the title\n",
        "plt.title('Correlation')\n",
        "  \n",
        "# plot the data\n",
        "plt.scatter(dataset['Year'], dataset['Reviews'])\n",
        "  \n",
        "# fits the best fitting line to the data\n",
        "plt.plot(np.unique(dataset['Year']), \n",
        "         np.poly1d(np.polyfit(dataset['Year'], dataset['Reviews'], 1))\n",
        "         (np.unique(dataset['Year'])), color='red')\n",
        "  \n",
        "# Labelling axes\n",
        "plt.xlabel('Year')\n",
        "plt.ylabel('Reviews')"
      ],
      "execution_count": 20,
      "outputs": [
        {
          "output_type": "execute_result",
          "data": {
            "text/plain": [
              "Text(0, 0.5, 'Reviews')"
            ]
          },
          "metadata": {
            "tags": []
          },
          "execution_count": 20
        },
        {
          "output_type": "display_data",
          "data": {
            "image/png": "[encoded data removed]",
            "text/plain": [
              "<Figure size 432x288 with 1 Axes>"
            ]
          },
          "metadata": {
            "tags": [],
            "needs_background": "light"
          }
        }
      ]
    },
    {
      "cell_type": "markdown",
      "metadata": {
        "id": "X3NeZ2NCcTCO"
      },
      "source": [
        "4- **In the next, we will answer the following questions:**\n",
        "*   In each year, who is the author who got the highest rating, and what is the book?\n",
        "*   In each year, who is the author has written the most bestseller books?\n",
        "*   In each year, which book has the most reviews?\n",
        "*   In each year, which genres become bestsellers more often?\n"
      ]
    },
    {
      "cell_type": "code",
      "metadata": {
        "id": "GjLeTlPiBEew",
        "colab": {
          "base_uri": "https://localhost:8080/"
        },
        "outputId": "9ba47099-7e47-4a7f-ead6-93bb727b3c48"
      },
      "source": [
        "#Q1:\n",
        "\n",
        "#build list for each year then find author who got highest rating and his book.\n",
        "for year in dataset['Year'].sort_values().unique():\n",
        "  dataset_year = dataset[dataset['Year'] == year]\n",
        "  highest_rate_year = max(dataset_year['User Rating'])\n",
        "  authors_highest_rating = dataset_year[dataset_year['User Rating'] == highest_rate_year]\n",
        "  print(year,':')\n",
        "  print('\\n')\n",
        "  print(authors_highest_rating[['Name', 'Author', 'User Rating']].to_string(index=False))\n",
        "  print('\\n')"
      ],
      "execution_count": 21,
      "outputs": [
        {
          "output_type": "stream",
          "text": [
            "2009 :\n",
            "\n",
            "\n",
            "                                                        Name            Author  User Rating\n",
            "               Diary of a Wimpy Kid: The Last Straw (Book 3)       Jeff Kinney          4.8\n",
            "          Dog Days (Diary of a Wimpy Kid, Book 4) (Volume 4)       Jeff Kinney          4.8\n",
            "                           Have a Little Faith: A True Story       Mitch Albom          4.8\n",
            "               Liberty and Tyranny: A Conservative Manifesto     Mark R. Levin          4.8\n",
            "                 Mastering the Art of French Cooking, Vol. 2       Julia Child          4.8\n",
            "                                          The 5000 Year Leap  W. Cleon Skousen          4.8\n",
            "                                                    The Help  Kathryn Stockett          4.8\n",
            " The Last Olympian (Percy Jackson and the Olympians, Book 5)      Rick Riordan          4.8\n",
            "                                               The Love Dare  Stephen Kendrick          4.8\n",
            "                                                    Watchmen        Alan Moore          4.8\n",
            "                                   Where the Wild Things Are    Maurice Sendak          4.8\n",
            "\n",
            "\n",
            "2010 :\n",
            "\n",
            "\n",
            "                                                                   Name             Author  User Rating\n",
            "        Percy Jackson and the Olympians Paperback Boxed Set (Books 1-3)       Rick Riordan          4.8\n",
            "                                                               The Help   Kathryn Stockett          4.8\n",
            "            The Last Olympian (Percy Jackson and the Olympians, Book 5)       Rick Riordan          4.8\n",
            "                              The Lost Hero (Heroes of Olympus, Book 1)       Rick Riordan          4.8\n",
            "                          The Ugly Truth (Diary of a Wimpy Kid, Book 5)        Jeff Kinney          4.8\n",
            "                      Towers of Midnight (Wheel of Time, Book Thirteen)      Robert Jordan          4.8\n",
            " Unbroken: A World War II Story of Survival, Resilience, and Redemption  Laura Hillenbrand          4.8\n",
            "\n",
            "\n",
            "2011 :\n",
            "\n",
            "\n",
            "                                                                      Name       Author  User Rating\n",
            " Jesus Calling: Enjoying Peace in His Presence (with Scripture References)  Sarah Young          4.9\n",
            "\n",
            "\n",
            "2012 :\n",
            "\n",
            "\n",
            "                                                                                            Name                Author  User Rating\n",
            " Goodnight, Goodnight Construction Site (Hardcover Books for Toddlers, Preschool Books for Kids)  Sherri Duskey Rinker          4.9\n",
            "                       Jesus Calling: Enjoying Peace in His Presence (with Scripture References)           Sarah Young          4.9\n",
            "                                                                       Oh, the Places You'll Go!             Dr. Seuss          4.9\n",
            "\n",
            "\n",
            "2013 :\n",
            "\n",
            "\n",
            "                                                                                            Name                Author  User Rating\n",
            " Goodnight, Goodnight Construction Site (Hardcover Books for Toddlers, Preschool Books for Kids)  Sherri Duskey Rinker          4.9\n",
            "                       Jesus Calling: Enjoying Peace in His Presence (with Scripture References)           Sarah Young          4.9\n",
            "                                                                       Oh, the Places You'll Go!             Dr. Seuss          4.9\n",
            "       Rush Revere and the Brave Pilgrims: Time-Travel Adventures with Exceptional Americans (1)         Rush Limbaugh          4.9\n",
            "                                                            The Legend of Zelda: Hyrule Historia        Patrick Thorpe          4.9\n",
            "                                                                     The Very Hungry Caterpillar            Eric Carle          4.9\n",
            "\n",
            "\n",
            "2014 :\n",
            "\n",
            "\n",
            "                                                                                      Name          Author  User Rating\n",
            "                 Jesus Calling: Enjoying Peace in His Presence (with Scripture References)     Sarah Young          4.9\n",
            "                                                                         Little Blue Truck  Alice Schertle          4.9\n",
            "                                                                 Oh, the Places You'll Go!       Dr. Seuss          4.9\n",
            " Rush Revere and the First Patriots: Time-Travel Adventures With Exceptional Americans (2)   Rush Limbaugh          4.9\n",
            "                                                               The Very Hungry Caterpillar      Eric Carle          4.9\n",
            "\n",
            "\n",
            "2015 :\n",
            "\n",
            "\n",
            "                                                                      Name           Author  User Rating\n",
            "                                              Humans of New York : Stories  Brandon Stanton          4.9\n",
            " Jesus Calling: Enjoying Peace in His Presence (with Scripture References)      Sarah Young          4.9\n",
            "                                                 Oh, the Places You'll Go!        Dr. Seuss          4.9\n",
            "                                               The Very Hungry Caterpillar       Eric Carle          4.9\n",
            "\n",
            "\n",
            "2016 :\n",
            "\n",
            "\n",
            "                                                                                    Name                 Author  User Rating\n",
            "                                                                Hamilton: The Revolution     Lin-Manuel Miranda          4.9\n",
            " Harry Potter and the Chamber of Secrets: The Illustrated Edition (Harry Potter, Book 2)           J.K. Rowling          4.9\n",
            "   Harry Potter and the Sorcerer's Stone: The Illustrated Edition (Harry Potter, Book 1)           J.K. Rowling          4.9\n",
            "               Jesus Calling: Enjoying Peace in His Presence (with Scripture References)            Sarah Young          4.9\n",
            "                                                               Oh, the Places You'll Go!              Dr. Seuss          4.9\n",
            "                                                                      The Magnolia Story            Chip Gaines          4.9\n",
            "                                                             The Very Hungry Caterpillar             Eric Carle          4.9\n",
            "                                                        The Wonderful Things You Will Be  Emily Winfield Martin          4.9\n",
            "\n",
            "\n",
            "2017 :\n",
            "\n",
            "\n",
            "                                                                                     Name                 Author  User Rating\n",
            "                                                 Brown Bear, Brown Bear, What Do You See?        Bill Martin Jr.          4.9\n",
            "      Dog Man: A Tale of Two Kitties: From the Creator of Captain Underpants (Dog Man #3)             Dav Pilkey          4.9\n",
            " Harry Potter and the Prisoner of Azkaban: The Illustrated Edition (Harry Potter, Book 3)           J.K. Rowling          4.9\n",
            "                                                              Obama: An Intimate Portrait             Pete Souza          4.9\n",
            "                                                                Oh, the Places You'll Go!              Dr. Seuss          4.9\n",
            "                                                              The Very Hungry Caterpillar             Eric Carle          4.9\n",
            "                                                         The Wonderful Things You Will Be  Emily Winfield Martin          4.9\n",
            "\n",
            "\n",
            "2018 :\n",
            "\n",
            "\n",
            "                                                                                                                    Name                 Author  User Rating\n",
            "                                                Dog Man and Cat Kid: From the Creator of Captain Underpants (Dog Man #4)             Dav Pilkey          4.9\n",
            "                                         Dog Man: Brawl of the Wild: From the Creator of Captain Underpants (Dog Man #6)             Dav Pilkey          4.9\n",
            "                                         Dog Man: Lord of the Fleas: From the Creator of Captain Underpants (Dog Man #5)             Dav Pilkey          4.9\n",
            " Last Week Tonight with John Oliver Presents A Day in the Life of Marlon Bundo (Better Bundo Book, LGBT Childrens Book)             Jill Twiss          4.9\n",
            "                                                                                               Oh, the Places You'll Go!              Dr. Seuss          4.9\n",
            "                                                                                             The Very Hungry Caterpillar             Eric Carle          4.9\n",
            "                                                                                        The Wonderful Things You Will Be  Emily Winfield Martin          4.9\n",
            "\n",
            "\n",
            "2019 :\n",
            "\n",
            "\n",
            "                                                                                    Name                 Author  User Rating\n",
            "                                                Brown Bear, Brown Bear, What Do You See?        Bill Martin Jr.          4.9\n",
            "         Dog Man: Brawl of the Wild: From the Creator of Captain Underpants (Dog Man #6)             Dav Pilkey          4.9\n",
            "                  Dog Man: Fetch-22: From the Creator of Captain Underpants (Dog Man #8)             Dav Pilkey          4.9\n",
            "   Dog Man: For Whom the Ball Rolls: From the Creator of Captain Underpants (Dog Man #7)             Dav Pilkey          4.9\n",
            " Harry Potter and the Goblet of Fire: The Illustrated Edition (Harry Potter, Book 4) (4)          J. K. Rowling          4.9\n",
            "                                                               Oh, the Places You'll Go!              Dr. Seuss          4.9\n",
            "                                                  Strange Planet (Strange Planet Series)         Nathan W. Pyle          4.9\n",
            "                                                             The Very Hungry Caterpillar             Eric Carle          4.9\n",
            "                                                        The Wonderful Things You Will Be  Emily Winfield Martin          4.9\n",
            "                                                                  Unfreedom of the Press          Mark R. Levin          4.9\n",
            "                                            Wrecking Ball (Diary of a Wimpy Kid Book 14)            Jeff Kinney          4.9\n",
            "\n",
            "\n"
          ],
          "name": "stdout"
        }
      ]
    },
    {
      "cell_type": "code",
      "metadata": {
        "colab": {
          "base_uri": "https://localhost:8080/"
        },
        "id": "4nd_ZnX7jzPD",
        "outputId": "bb4f909b-bbda-4331-a3db-ea225006687e"
      },
      "source": [
        "#Q2:\n",
        "\n",
        "from collections import Counter\n",
        "#count No. of books for each author in each year then find author who has written most bestseller books.\n",
        "for year in dataset['Year'].sort_values().unique():  \n",
        "  dataset_year = dataset[dataset['Year'] == year]\n",
        "  count_books = pd.DataFrame(Counter(dataset_year.Author).items())\n",
        "  # changing keys of DataFrame\n",
        "  count_books['Author'] = count_books[0]\n",
        "  del count_books[0]\n",
        "  count_books['No. of books'] = count_books[1]\n",
        "  del count_books[1]\n",
        "  count_books_max = count_books[count_books['No. of books']== max(count_books['No. of books'])]\n",
        "  print(year,':')\n",
        "  print('\\n')\n",
        "  print(count_books_max.to_string(index=False))\n",
        "  print('\\n')"
      ],
      "execution_count": 22,
      "outputs": [
        {
          "output_type": "stream",
          "text": [
            "2009 :\n",
            "\n",
            "\n",
            "          Author  No. of books\n",
            " Stephenie Meyer             6\n",
            "\n",
            "\n",
            "2010 :\n",
            "\n",
            "\n",
            "       Author  No. of books\n",
            " Rick Riordan             4\n",
            "\n",
            "\n",
            "2011 :\n",
            "\n",
            "\n",
            "          Author  No. of books\n",
            " Suzanne Collins             4\n",
            "\n",
            "\n",
            "2012 :\n",
            "\n",
            "\n",
            "          Author  No. of books\n",
            " Suzanne Collins             4\n",
            "       E L James             4\n",
            "\n",
            "\n",
            "2013 :\n",
            "\n",
            "\n",
            "        Author  No. of books\n",
            " Veronica Roth             2\n",
            "  Stephen King             2\n",
            "   Rob Elliott             2\n",
            "\n",
            "\n",
            "2014 :\n",
            "\n",
            "\n",
            "     Author  No. of books\n",
            " John Green             3\n",
            "\n",
            "\n",
            "2015 :\n",
            "\n",
            "\n",
            "             Author  No. of books\n",
            " Blue Star Coloring             2\n",
            "    Marjorie Sarnat             2\n",
            "    Johanna Basford             2\n",
            "         Harper Lee             2\n",
            "        Rob Elliott             2\n",
            "          Dr. Seuss             2\n",
            "\n",
            "\n",
            "2016 :\n",
            "\n",
            "\n",
            "       Author  No. of books\n",
            " J.K. Rowling             4\n",
            "\n",
            "\n",
            "2017 :\n",
            "\n",
            "\n",
            "    Author  No. of books\n",
            " Rupi Kaur             2\n",
            "\n",
            "\n",
            "2018 :\n",
            "\n",
            "\n",
            "     Author  No. of books\n",
            " Dav Pilkey             3\n",
            "\n",
            "\n",
            "2019 :\n",
            "\n",
            "\n",
            "     Author  No. of books\n",
            " Dav Pilkey             3\n",
            "\n",
            "\n"
          ],
          "name": "stdout"
        }
      ]
    },
    {
      "cell_type": "code",
      "metadata": {
        "colab": {
          "base_uri": "https://localhost:8080/"
        },
        "id": "A6dp3KnqD5hH",
        "outputId": "33416f8f-9b40-469b-91e8-89d46c777ba8"
      },
      "source": [
        "#Q3:\n",
        "\n",
        "#build list for each year then find the book that has the most reviews.\n",
        "for year in dataset['Year'].sort_values().unique():\n",
        "  dataset_year = dataset[dataset['Year'] == year]\n",
        "  highest_reviews_year = max(dataset_year['Reviews'])\n",
        "  books_highest_reviews = dataset_year[dataset_year['Reviews'] == highest_reviews_year]\n",
        "  print(year,':')\n",
        "  print('\\n')\n",
        "  print(books_highest_reviews[['Name','Reviews']].to_string(index=False))\n",
        "  print('\\n')\n"
      ],
      "execution_count": 23,
      "outputs": [
        {
          "output_type": "stream",
          "text": [
            "2009 :\n",
            "\n",
            "\n",
            "                                        Name  Reviews\n",
            " The Shack: Where Tragedy Confronts Eternity    19720\n",
            "\n",
            "\n",
            "2010 :\n",
            "\n",
            "\n",
            "             Name  Reviews\n",
            " The Hunger Games    32122\n",
            "\n",
            "\n",
            "2011 :\n",
            "\n",
            "\n",
            "                      Name  Reviews\n",
            " The Hunger Games (Book 1)    32122\n",
            "\n",
            "\n",
            "2012 :\n",
            "\n",
            "\n",
            "      Name  Reviews\n",
            " Gone Girl    57271\n",
            "\n",
            "\n",
            "2013 :\n",
            "\n",
            "\n",
            "      Name  Reviews\n",
            " Gone Girl    57271\n",
            "\n",
            "\n",
            "2014 :\n",
            "\n",
            "\n",
            "      Name  Reviews\n",
            " Gone Girl    57271\n",
            "\n",
            "\n",
            "2015 :\n",
            "\n",
            "\n",
            "                  Name  Reviews\n",
            " The Girl on the Train    79446\n",
            "\n",
            "\n",
            "2016 :\n",
            "\n",
            "\n",
            "                  Name  Reviews\n",
            " The Girl on the Train    79446\n",
            "\n",
            "\n",
            "2017 :\n",
            "\n",
            "\n",
            "                Name  Reviews\n",
            " The Handmaid's Tale    29442\n",
            "\n",
            "\n",
            "2018 :\n",
            "\n",
            "\n",
            "     Name  Reviews\n",
            " Becoming    61133\n",
            "\n",
            "\n",
            "2019 :\n",
            "\n",
            "\n",
            "                    Name  Reviews\n",
            " Where the Crawdads Sing    87841\n",
            "\n",
            "\n"
          ],
          "name": "stdout"
        }
      ]
    },
    {
      "cell_type": "code",
      "metadata": {
        "colab": {
          "base_uri": "https://localhost:8080/"
        },
        "id": "CYo9jXx7SiT6",
        "outputId": "59ece918-585e-4eaa-f41c-f9ffe09ef9cb"
      },
      "source": [
        "#Q4:\n",
        "\n",
        "from collections import Counter\n",
        "#count No. of books for each genre in each year then find which genres become bestsellers more often?\n",
        "for year in dataset['Year'].sort_values().unique():  \n",
        "  dataset_year = dataset[dataset['Year'] == year]\n",
        "  count_books = pd.DataFrame(Counter(dataset_year.Genre).items())\n",
        "  # changing keys of DataFrame\n",
        "  count_books['Genre'] = count_books[0]\n",
        "  del count_books[0]\n",
        "  count_books['No. of books'] = count_books[1]\n",
        "  del count_books[1]\n",
        "  count_books_max = count_books[count_books['No. of books']== max(count_books['No. of books'])]\n",
        "  print(year,':')\n",
        "  print('\\n')\n",
        "  print(count_books_max.to_string(index=False))\n",
        "  print('\\n')"
      ],
      "execution_count": 24,
      "outputs": [
        {
          "output_type": "stream",
          "text": [
            "2009 :\n",
            "\n",
            "\n",
            "       Genre  No. of books\n",
            " Non Fiction            26\n",
            "\n",
            "\n",
            "2010 :\n",
            "\n",
            "\n",
            "       Genre  No. of books\n",
            " Non Fiction            30\n",
            "\n",
            "\n",
            "2011 :\n",
            "\n",
            "\n",
            "       Genre  No. of books\n",
            " Non Fiction            29\n",
            "\n",
            "\n",
            "2012 :\n",
            "\n",
            "\n",
            "       Genre  No. of books\n",
            " Non Fiction            29\n",
            "\n",
            "\n",
            "2013 :\n",
            "\n",
            "\n",
            "       Genre  No. of books\n",
            " Non Fiction            26\n",
            "\n",
            "\n",
            "2014 :\n",
            "\n",
            "\n",
            "   Genre  No. of books\n",
            " Fiction            29\n",
            "\n",
            "\n",
            "2015 :\n",
            "\n",
            "\n",
            "       Genre  No. of books\n",
            " Non Fiction            33\n",
            "\n",
            "\n",
            "2016 :\n",
            "\n",
            "\n",
            "       Genre  No. of books\n",
            " Non Fiction            31\n",
            "\n",
            "\n",
            "2017 :\n",
            "\n",
            "\n",
            "       Genre  No. of books\n",
            " Non Fiction            26\n",
            "\n",
            "\n",
            "2018 :\n",
            "\n",
            "\n",
            "       Genre  No. of books\n",
            " Non Fiction            29\n",
            "\n",
            "\n",
            "2019 :\n",
            "\n",
            "\n",
            "       Genre  No. of books\n",
            " Non Fiction            30\n",
            "\n",
            "\n"
          ],
          "name": "stdout"
        }
      ]
    },
    {
      "cell_type": "markdown",
      "metadata": {
        "id": "2eHMTV1Qx7TT"
      },
      "source": [
        "5- **In the next, we will answer the following questions:**\n",
        "*   Who is the author who got the highest rating from 2009 to 2019, and what is the book?\n",
        "*   Who is the author has written the most bestseller books from 2009 to 2019?\n",
        "*   Which book has the most reviews from 2009 to 2019?\n",
        "*   Which genres become bestsellers more often?"
      ]
    },
    {
      "cell_type": "markdown",
      "metadata": {
        "id": "EU9qnInPVISm"
      },
      "source": [
        "*   Delete Duplicates\n",
        "\n",
        "\n",
        "\n"
      ]
    },
    {
      "cell_type": "code",
      "metadata": {
        "colab": {
          "base_uri": "https://localhost:8080/",
          "height": 272
        },
        "id": "PbHmCGcFoPZZ",
        "outputId": "0f1c6203-5d39-48d9-86b2-382562b088c1"
      },
      "source": [
        "#take copy of dataset\n",
        "dataset_copy = dataset.copy()\n",
        "#delete Year and Price columns\n",
        "del dataset_copy['Year']\n",
        "del dataset_copy['Price']\n",
        "dataset_copy.head()"
      ],
      "execution_count": 25,
      "outputs": [
        {
          "output_type": "execute_result",
          "data": {
            "text/html": [
              "<div>\n",
              "<style scoped>\n",
              "    .dataframe tbody tr th:only-of-type {\n",
              "        vertical-align: middle;\n",
              "    }\n",
              "\n",
              "    .dataframe tbody tr th {\n",
              "        vertical-align: top;\n",
              "    }\n",
              "\n",
              "    .dataframe thead th {\n",
              "        text-align: right;\n",
              "    }\n",
              "</style>\n",
              "<table border=\"1\" class=\"dataframe\">\n",
              "  <thead>\n",
              "    <tr style=\"text-align: right;\">\n",
              "      <th></th>\n",
              "      <th>Name</th>\n",
              "      <th>Author</th>\n",
              "      <th>User Rating</th>\n",
              "      <th>Reviews</th>\n",
              "      <th>Genre</th>\n",
              "      <th>Name_lowerC</th>\n",
              "      <th>Author_lowerC</th>\n",
              "    </tr>\n",
              "  </thead>\n",
              "  <tbody>\n",
              "    <tr>\n",
              "      <th>0</th>\n",
              "      <td>10-Day Green Smoothie Cleanse</td>\n",
              "      <td>JJ Smith</td>\n",
              "      <td>4.7</td>\n",
              "      <td>17350</td>\n",
              "      <td>Non Fiction</td>\n",
              "      <td>10-day green smoothie cleanse</td>\n",
              "      <td>jj smith</td>\n",
              "    </tr>\n",
              "    <tr>\n",
              "      <th>1</th>\n",
              "      <td>11/22/63: A Novel</td>\n",
              "      <td>Stephen King</td>\n",
              "      <td>4.6</td>\n",
              "      <td>2052</td>\n",
              "      <td>Fiction</td>\n",
              "      <td>11/22/63: a novel</td>\n",
              "      <td>stephen king</td>\n",
              "    </tr>\n",
              "    <tr>\n",
              "      <th>2</th>\n",
              "      <td>12 Rules for Life: An Antidote to Chaos</td>\n",
              "      <td>Jordan B. Peterson</td>\n",
              "      <td>4.7</td>\n",
              "      <td>18979</td>\n",
              "      <td>Non Fiction</td>\n",
              "      <td>12 rules for life: an antidote to chaos</td>\n",
              "      <td>jordan b. peterson</td>\n",
              "    </tr>\n",
              "    <tr>\n",
              "      <th>3</th>\n",
              "      <td>1984 (Signet Classics)</td>\n",
              "      <td>George Orwell</td>\n",
              "      <td>4.7</td>\n",
              "      <td>21424</td>\n",
              "      <td>Fiction</td>\n",
              "      <td>1984 (signet classics)</td>\n",
              "      <td>george orwell</td>\n",
              "    </tr>\n",
              "    <tr>\n",
              "      <th>4</th>\n",
              "      <td>5,000 Awesome Facts (About Everything!) (Natio...</td>\n",
              "      <td>National Geographic Kids</td>\n",
              "      <td>4.8</td>\n",
              "      <td>7665</td>\n",
              "      <td>Non Fiction</td>\n",
              "      <td>5,000 awesome facts (about everything!) (natio...</td>\n",
              "      <td>national geographic kids</td>\n",
              "    </tr>\n",
              "  </tbody>\n",
              "</table>\n",
              "</div>"
            ],
            "text/plain": [
              "                                                Name  ...             Author_lowerC\n",
              "0                      10-Day Green Smoothie Cleanse  ...                  jj smith\n",
              "1                                  11/22/63: A Novel  ...              stephen king\n",
              "2            12 Rules for Life: An Antidote to Chaos  ...        jordan b. peterson\n",
              "3                             1984 (Signet Classics)  ...             george orwell\n",
              "4  5,000 Awesome Facts (About Everything!) (Natio...  ...  national geographic kids\n",
              "\n",
              "[5 rows x 7 columns]"
            ]
          },
          "metadata": {
            "tags": []
          },
          "execution_count": 25
        }
      ]
    },
    {
      "cell_type": "code",
      "metadata": {
        "colab": {
          "base_uri": "https://localhost:8080/",
          "height": 258
        },
        "id": "20U-MDSoqdpV",
        "outputId": "ebff9f7a-5438-4462-89ee-e3608f6187a2"
      },
      "source": [
        "#delete dublicates\n",
        "dataset_copy = dataset_copy.drop_duplicates(keep='first')\n",
        "#check if there are any duplicate books \n",
        "dataset_copy[dataset_copy.duplicated(keep=False, subset=['Name_lowerC'])]"
      ],
      "execution_count": 26,
      "outputs": [
        {
          "output_type": "execute_result",
          "data": {
            "text/html": [
              "<div>\n",
              "<style scoped>\n",
              "    .dataframe tbody tr th:only-of-type {\n",
              "        vertical-align: middle;\n",
              "    }\n",
              "\n",
              "    .dataframe tbody tr th {\n",
              "        vertical-align: top;\n",
              "    }\n",
              "\n",
              "    .dataframe thead th {\n",
              "        text-align: right;\n",
              "    }\n",
              "</style>\n",
              "<table border=\"1\" class=\"dataframe\">\n",
              "  <thead>\n",
              "    <tr style=\"text-align: right;\">\n",
              "      <th></th>\n",
              "      <th>Name</th>\n",
              "      <th>Author</th>\n",
              "      <th>User Rating</th>\n",
              "      <th>Reviews</th>\n",
              "      <th>Genre</th>\n",
              "      <th>Name_lowerC</th>\n",
              "      <th>Author_lowerC</th>\n",
              "    </tr>\n",
              "  </thead>\n",
              "  <tbody>\n",
              "    <tr>\n",
              "      <th>320</th>\n",
              "      <td>The 5 Love Languages: The Secret to Love That ...</td>\n",
              "      <td>Gary Chapman</td>\n",
              "      <td>4.7</td>\n",
              "      <td>3477</td>\n",
              "      <td>Non Fiction</td>\n",
              "      <td>the 5 love languages: the secret to love that ...</td>\n",
              "      <td>gary chapman</td>\n",
              "    </tr>\n",
              "    <tr>\n",
              "      <th>325</th>\n",
              "      <td>The 5 Love Languages: The Secret to Love that ...</td>\n",
              "      <td>Gary Chapman</td>\n",
              "      <td>4.8</td>\n",
              "      <td>25554</td>\n",
              "      <td>Non Fiction</td>\n",
              "      <td>the 5 love languages: the secret to love that ...</td>\n",
              "      <td>gary chapman</td>\n",
              "    </tr>\n",
              "    <tr>\n",
              "      <th>331</th>\n",
              "      <td>The 7 Habits of Highly Effective People: Power...</td>\n",
              "      <td>Stephen R. Covey</td>\n",
              "      <td>4.6</td>\n",
              "      <td>9325</td>\n",
              "      <td>Non Fiction</td>\n",
              "      <td>the 7 habits of highly effective people: power...</td>\n",
              "      <td>stephen r. covey</td>\n",
              "    </tr>\n",
              "    <tr>\n",
              "      <th>335</th>\n",
              "      <td>The 7 Habits of Highly Effective People: Power...</td>\n",
              "      <td>Stephen R. Covey</td>\n",
              "      <td>4.7</td>\n",
              "      <td>4725</td>\n",
              "      <td>Non Fiction</td>\n",
              "      <td>the 7 habits of highly effective people: power...</td>\n",
              "      <td>stephen r. covey</td>\n",
              "    </tr>\n",
              "  </tbody>\n",
              "</table>\n",
              "</div>"
            ],
            "text/plain": [
              "                                                  Name  ...     Author_lowerC\n",
              "320  The 5 Love Languages: The Secret to Love That ...  ...      gary chapman\n",
              "325  The 5 Love Languages: The Secret to Love that ...  ...      gary chapman\n",
              "331  The 7 Habits of Highly Effective People: Power...  ...  stephen r. covey\n",
              "335  The 7 Habits of Highly Effective People: Power...  ...  stephen r. covey\n",
              "\n",
              "[4 rows x 7 columns]"
            ]
          },
          "metadata": {
            "tags": []
          },
          "execution_count": 26
        }
      ]
    },
    {
      "cell_type": "code",
      "metadata": {
        "id": "fs8NfCFKypp3"
      },
      "source": [
        "#for delete duplicate books, we need build two copies on for highest rating and another one for highest reviews.\n",
        "dataset_copy_highest_rating = dataset_copy.copy()\n",
        "dataset_copy_highest_reviews = dataset_copy.copy()"
      ],
      "execution_count": 56,
      "outputs": []
    },
    {
      "cell_type": "code",
      "metadata": {
        "colab": {
          "base_uri": "https://localhost:8080/",
          "height": 49
        },
        "id": "vUid9WJa0G7F",
        "outputId": "05ad2730-b4f1-495d-8389-8a858b902f5f"
      },
      "source": [
        "#delete two rowes from dataset_copy_highest_rating (320 and 331) \n",
        "dataset_copy_highest_rating = dataset_copy_highest_rating.drop(320)\n",
        "dataset_copy_highest_rating = dataset_copy_highest_rating.drop(331)\n",
        "#delete two rowes from dataset_copy_highest_reviews (320 and 335)\n",
        "dataset_copy_highest_reviews = dataset_copy_highest_reviews.drop(320)\n",
        "dataset_copy_highest_reviews = dataset_copy_highest_reviews.drop(335)\n"
      ],
      "execution_count": 57,
      "outputs": [
        {
          "output_type": "execute_result",
          "data": {
            "text/html": [
              "<div>\n",
              "<style scoped>\n",
              "    .dataframe tbody tr th:only-of-type {\n",
              "        vertical-align: middle;\n",
              "    }\n",
              "\n",
              "    .dataframe tbody tr th {\n",
              "        vertical-align: top;\n",
              "    }\n",
              "\n",
              "    .dataframe thead th {\n",
              "        text-align: right;\n",
              "    }\n",
              "</style>\n",
              "<table border=\"1\" class=\"dataframe\">\n",
              "  <thead>\n",
              "    <tr style=\"text-align: right;\">\n",
              "      <th></th>\n",
              "      <th>Name</th>\n",
              "      <th>Author</th>\n",
              "      <th>User Rating</th>\n",
              "      <th>Reviews</th>\n",
              "      <th>Genre</th>\n",
              "      <th>Name_lowerC</th>\n",
              "      <th>Author_lowerC</th>\n",
              "    </tr>\n",
              "  </thead>\n",
              "  <tbody>\n",
              "  </tbody>\n",
              "</table>\n",
              "</div>"
            ],
            "text/plain": [
              "Empty DataFrame\n",
              "Columns: [Name, Author, User Rating, Reviews, Genre, Name_lowerC, Author_lowerC]\n",
              "Index: []"
            ]
          },
          "metadata": {
            "tags": []
          },
          "execution_count": 57
        }
      ]
    },
    {
      "cell_type": "code",
      "metadata": {
        "colab": {
          "base_uri": "https://localhost:8080/"
        },
        "id": "fvt2CkQVXQPS",
        "outputId": "a7a788f1-f187-4241-b964-2c48158aa945"
      },
      "source": [
        "#Q1:\n",
        "\n",
        "#find author who got highest rating and his book.\n",
        "highest_rate_year = max(dataset_copy_highest_rating['User Rating'])\n",
        "authors_highest_rating = dataset_copy_highest_rating[dataset_copy_highest_rating['User Rating'] == highest_rate_year]\n",
        "print(authors_highest_rating[['Name', 'Author', 'User Rating']].to_string(index=False))\n"
      ],
      "execution_count": 60,
      "outputs": [
        {
          "output_type": "stream",
          "text": [
            "                                                                                                                    Name                 Author  User Rating\n",
            "                                                                                Brown Bear, Brown Bear, What Do You See?        Bill Martin Jr.          4.9\n",
            "                                                Dog Man and Cat Kid: From the Creator of Captain Underpants (Dog Man #4)             Dav Pilkey          4.9\n",
            "                                     Dog Man: A Tale of Two Kitties: From the Creator of Captain Underpants (Dog Man #3)             Dav Pilkey          4.9\n",
            "                                         Dog Man: Brawl of the Wild: From the Creator of Captain Underpants (Dog Man #6)             Dav Pilkey          4.9\n",
            "                                                  Dog Man: Fetch-22: From the Creator of Captain Underpants (Dog Man #8)             Dav Pilkey          4.9\n",
            "                                   Dog Man: For Whom the Ball Rolls: From the Creator of Captain Underpants (Dog Man #7)             Dav Pilkey          4.9\n",
            "                                         Dog Man: Lord of the Fleas: From the Creator of Captain Underpants (Dog Man #5)             Dav Pilkey          4.9\n",
            "                         Goodnight, Goodnight Construction Site (Hardcover Books for Toddlers, Preschool Books for Kids)   Sherri Duskey Rinker          4.9\n",
            "                                                                                                Hamilton: The Revolution     Lin-Manuel Miranda          4.9\n",
            "                                 Harry Potter and the Chamber of Secrets: The Illustrated Edition (Harry Potter, Book 2)           J.K. Rowling          4.9\n",
            "                                 Harry Potter and the Goblet of Fire: The Illustrated Edition (Harry Potter, Book 4) (4)          J. K. Rowling          4.9\n",
            "                                Harry Potter and the Prisoner of Azkaban: The Illustrated Edition (Harry Potter, Book 3)           J.K. Rowling          4.9\n",
            "                                   Harry Potter and the Sorcerer's Stone: The Illustrated Edition (Harry Potter, Book 1)           J.K. Rowling          4.9\n",
            "                                                                                            Humans of New York : Stories        Brandon Stanton          4.9\n",
            "                                               Jesus Calling: Enjoying Peace in His Presence (with Scripture References)            Sarah Young          4.9\n",
            " Last Week Tonight with John Oliver Presents A Day in the Life of Marlon Bundo (Better Bundo Book, LGBT Childrens Book)             Jill Twiss          4.9\n",
            "                                                                                                       Little Blue Truck         Alice Schertle          4.9\n",
            "                                                                                             Obama: An Intimate Portrait             Pete Souza          4.9\n",
            "                                                                                               Oh, the Places You'll Go!              Dr. Seuss          4.9\n",
            "                               Rush Revere and the Brave Pilgrims: Time-Travel Adventures with Exceptional Americans (1)          Rush Limbaugh          4.9\n",
            "                               Rush Revere and the First Patriots: Time-Travel Adventures With Exceptional Americans (2)          Rush Limbaugh          4.9\n",
            "                                                                                  Strange Planet (Strange Planet Series)         Nathan W. Pyle          4.9\n",
            "                                                                                    The Legend of Zelda: Hyrule Historia         Patrick Thorpe          4.9\n",
            "                                                                                                      The Magnolia Story            Chip Gaines          4.9\n",
            "                                                                                             The Very Hungry Caterpillar             Eric Carle          4.9\n",
            "                                                                                        The Wonderful Things You Will Be  Emily Winfield Martin          4.9\n",
            "                                                                                                  Unfreedom of the Press          Mark R. Levin          4.9\n",
            "                                                                            Wrecking Ball (Diary of a Wimpy Kid Book 14)            Jeff Kinney          4.9\n"
          ],
          "name": "stdout"
        }
      ]
    },
    {
      "cell_type": "code",
      "metadata": {
        "colab": {
          "base_uri": "https://localhost:8080/"
        },
        "id": "i-h8_Qrwbaoq",
        "outputId": "8a643e7e-1ec3-4fd3-e375-1a1bc79b59f2"
      },
      "source": [
        "#Q2:\n",
        "\n",
        "from collections import Counter\n",
        "#count No. of books for each author then find author who has written most bestseller books.\n",
        "count_books = pd.DataFrame(Counter(dataset_copy_highest_reviews.Author).items())\n",
        "# changing keys of DataFrame\n",
        "count_books['Author'] = count_books[0]\n",
        "del count_books[0]\n",
        "count_books['No. of books'] = count_books[1]\n",
        "del count_books[1]\n",
        "#find author who has written most bestseller books.\n",
        "count_books_max = count_books[count_books['No. of books']== max(count_books['No. of books'])]\n",
        "print(count_books_max.to_string(index=False))\n"
      ],
      "execution_count": 61,
      "outputs": [
        {
          "output_type": "stream",
          "text": [
            "      Author  No. of books\n",
            " Jeff Kinney            12\n"
          ],
          "name": "stdout"
        }
      ]
    },
    {
      "cell_type": "code",
      "metadata": {
        "colab": {
          "base_uri": "https://localhost:8080/"
        },
        "id": "dK3l6estzkAl",
        "outputId": "cf6c3836-2da7-4e18-f64e-fae63b4ae43a"
      },
      "source": [
        "#Q3:\n",
        "\n",
        "#find the book that has the most reviews.\n",
        "highest_reviews_year = max(dataset_copy_highest_reviews['Reviews'])\n",
        "books_highest_reviews = dataset_copy_highest_reviews[dataset_copy_highest_reviews['Reviews'] == highest_reviews_year]\n",
        "print(books_highest_reviews[['Name','Reviews']].to_string(index=False))\n"
      ],
      "execution_count": 62,
      "outputs": [
        {
          "output_type": "stream",
          "text": [
            "                    Name  Reviews\n",
            " Where the Crawdads Sing    87841\n"
          ],
          "name": "stdout"
        }
      ]
    },
    {
      "cell_type": "code",
      "metadata": {
        "colab": {
          "base_uri": "https://localhost:8080/"
        },
        "id": "dtVJ8-Ni1x9S",
        "outputId": "2f6359ee-bea1-4398-faf4-0f2940828c70"
      },
      "source": [
        "#Q4:\n",
        "\n",
        "from collections import Counter\n",
        "#count No. of books for each genre then find which genres become bestsellers more often?\n",
        "count_books = pd.DataFrame(Counter(dataset_copy_highest_reviews.Genre).items())\n",
        "# changing keys of DataFrame\n",
        "count_books['Genre'] = count_books[0]\n",
        "del count_books[0]\n",
        "count_books['No. of books'] = count_books[1]\n",
        "del count_books[1]\n",
        "#find which genres become bestsellers more often?\n",
        "count_books_max = count_books[count_books['No. of books']== max(count_books['No. of books'])]\n",
        "print(count_books_max.to_string(index=False))\n"
      ],
      "execution_count": 64,
      "outputs": [
        {
          "output_type": "stream",
          "text": [
            "       Genre  No. of books\n",
            " Non Fiction           190\n"
          ],
          "name": "stdout"
        }
      ]
    },
    {
      "cell_type": "markdown",
      "metadata": {
        "id": "n9O6dLSt8Zlk"
      },
      "source": [
        "**The End...**"
      ]
    }
  ]
}